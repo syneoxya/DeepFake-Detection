{
 "cells": [
  {
   "cell_type": "code",
   "execution_count": 1,
   "metadata": {},
   "outputs": [
    {
     "name": "stderr",
     "output_type": "stream",
     "text": [
      "C:\\Users\\Akshat\\AppData\\Roaming\\Python\\Python310\\site-packages\\scipy\\__init__.py:146: UserWarning: A NumPy version >=1.17.3 and <1.25.0 is required for this version of SciPy (detected version 1.26.3\n",
      "  warnings.warn(f\"A NumPy version >={np_minversion} and <{np_maxversion}\"\n"
     ]
    },
    {
     "name": "stdout",
     "output_type": "stream",
     "text": [
      "WARNING:tensorflow:From C:\\Users\\Akshat\\AppData\\Roaming\\Python\\Python310\\site-packages\\keras\\src\\losses.py:2976: The name tf.losses.sparse_softmax_cross_entropy is deprecated. Please use tf.compat.v1.losses.sparse_softmax_cross_entropy instead.\n",
      "\n"
     ]
    }
   ],
   "source": [
    "from sklearn.model_selection import train_test_split\n",
    "import pandas as pd\n",
    "import numpy as np\n",
    "import tensorflow as tf\n",
    "\n",
    "from tensorflow.keras.models import Sequential\n",
    "from tensorflow.keras.layers import  Dense\n",
    "\n",
    "from sklearn.metrics import accuracy_score, precision_score, recall_score, f1_score"
   ]
  },
  {
   "cell_type": "code",
   "execution_count": 2,
   "metadata": {},
   "outputs": [
    {
     "name": "stdout",
     "output_type": "stream",
     "text": [
      "WARNING:tensorflow:From C:\\Users\\Akshat\\AppData\\Roaming\\Python\\Python310\\site-packages\\keras\\src\\backend.py:873: The name tf.get_default_graph is deprecated. Please use tf.compat.v1.get_default_graph instead.\n",
      "\n",
      "WARNING:tensorflow:From C:\\Users\\Akshat\\AppData\\Roaming\\Python\\Python310\\site-packages\\keras\\src\\optimizers\\__init__.py:309: The name tf.train.Optimizer is deprecated. Please use tf.compat.v1.train.Optimizer instead.\n",
      "\n",
      "Epoch 1/10\n",
      "WARNING:tensorflow:From C:\\Users\\Akshat\\AppData\\Roaming\\Python\\Python310\\site-packages\\keras\\src\\utils\\tf_utils.py:492: The name tf.ragged.RaggedTensorValue is deprecated. Please use tf.compat.v1.ragged.RaggedTensorValue instead.\n",
      "\n",
      "WARNING:tensorflow:From C:\\Users\\Akshat\\AppData\\Roaming\\Python\\Python310\\site-packages\\keras\\src\\engine\\base_layer_utils.py:384: The name tf.executing_eagerly_outside_functions is deprecated. Please use tf.compat.v1.executing_eagerly_outside_functions instead.\n",
      "\n",
      "846/846 [==============================] - 2s 1ms/step - loss: 5.4418 - accuracy: 0.7487\n",
      "Epoch 2/10\n",
      "846/846 [==============================] - 1s 1ms/step - loss: 1.2490 - accuracy: 0.8732\n",
      "Epoch 3/10\n",
      "846/846 [==============================] - 1s 1ms/step - loss: 0.8285 - accuracy: 0.9073\n",
      "Epoch 4/10\n",
      "846/846 [==============================] - 1s 1ms/step - loss: 0.8506 - accuracy: 0.9109\n",
      "Epoch 5/10\n",
      "846/846 [==============================] - 1s 1ms/step - loss: 0.4914 - accuracy: 0.9279\n",
      "Epoch 6/10\n",
      "846/846 [==============================] - 1s 1ms/step - loss: 0.4133 - accuracy: 0.9330\n",
      "Epoch 7/10\n",
      "846/846 [==============================] - 1s 1ms/step - loss: 0.4015 - accuracy: 0.9362\n",
      "Epoch 8/10\n",
      "846/846 [==============================] - 1s 1ms/step - loss: 0.2244 - accuracy: 0.9520\n",
      "Epoch 9/10\n",
      "846/846 [==============================] - 1s 1ms/step - loss: 0.1558 - accuracy: 0.9577\n",
      "Epoch 10/10\n",
      "846/846 [==============================] - 1s 1ms/step - loss: 0.1488 - accuracy: 0.9598\n",
      "212/212 [==============================] - 0s 717us/step\n",
      "Accuracy: 0.9738359201773836\n",
      "Precision: 0.9539146373396177\n",
      "Recall: 0.9997255762897914\n",
      "F1 Score: 0.9762829961141632\n"
     ]
    }
   ],
   "source": [
    "df=pd.read_csv(\"../Data/ffvit.csv\")\n",
    "df.head()\n",
    "\n",
    "X=df.drop(columns=[\"label\"],axis=1)\n",
    "y=df.label\n",
    "X_train, X_test, y_train, y_test = train_test_split(X, y, test_size=0.2, random_state=42)\n",
    "\n",
    "model=Sequential()\n",
    "\n",
    "model.add(Dense(64, activation='relu', input_shape=(X_train.shape[1],)))  \n",
    "model.add(Dense(128, activation='relu', input_shape=(X_train.shape[1],)))  \n",
    "model.add(Dense(1, activation='sigmoid'))\n",
    "\n",
    "model.compile(optimizer='adam', loss='binary_crossentropy', metrics=['accuracy'])\n",
    "\n",
    "model.fit(X_train,y_train,epochs=10)\n",
    "\n",
    "y_pred = model.predict(X_test)\n",
    "\n",
    "# Convert predictions to binary values\n",
    "y_pred_binary = (y_pred > 0.5).astype(\"int32\")\n",
    "\n",
    "# Calculate evaluation metrics\n",
    "accuracy = accuracy_score(y_test, y_pred_binary)\n",
    "precision = precision_score(y_test, y_pred_binary)\n",
    "recall = recall_score(y_test, y_pred_binary)\n",
    "f1 = f1_score(y_test, y_pred_binary)\n",
    "\n",
    "print(\"Accuracy:\", accuracy)\n",
    "print(\"Precision:\", precision)\n",
    "print(\"Recall:\", recall)\n",
    "print(\"F1 Score:\", f1)"
   ]
  },
  {
   "cell_type": "code",
   "execution_count": 3,
   "metadata": {},
   "outputs": [
    {
     "name": "stdout",
     "output_type": "stream",
     "text": [
      "Epoch 1/10\n",
      "756/756 [==============================] - 1s 1ms/step - loss: 4.9531 - accuracy: 0.7119\n",
      "Epoch 2/10\n",
      "756/756 [==============================] - 1s 1ms/step - loss: 1.7637 - accuracy: 0.8518\n",
      "Epoch 3/10\n",
      "756/756 [==============================] - 1s 1ms/step - loss: 1.4088 - accuracy: 0.8767\n",
      "Epoch 4/10\n",
      "756/756 [==============================] - 1s 1ms/step - loss: 0.7017 - accuracy: 0.9142\n",
      "Epoch 5/10\n",
      "756/756 [==============================] - 1s 1ms/step - loss: 0.9733 - accuracy: 0.9075\n",
      "Epoch 6/10\n",
      "756/756 [==============================] - 1s 1ms/step - loss: 0.7980 - accuracy: 0.9242\n",
      "Epoch 7/10\n",
      "756/756 [==============================] - 1s 1ms/step - loss: 0.5788 - accuracy: 0.9321\n",
      "Epoch 8/10\n",
      "756/756 [==============================] - 1s 1ms/step - loss: 0.5590 - accuracy: 0.9319\n",
      "Epoch 9/10\n",
      "756/756 [==============================] - 1s 1ms/step - loss: 0.3810 - accuracy: 0.9377\n",
      "Epoch 10/10\n",
      "756/756 [==============================] - 1s 1ms/step - loss: 0.2520 - accuracy: 0.9472\n",
      "189/189 [==============================] - 0s 701us/step\n",
      "Accuracy: 0.983956334766788\n",
      "Precision: 0.9762447120078099\n",
      "Recall: 0.9920634920634921\n",
      "F1 Score: 0.9840905363293423\n"
     ]
    }
   ],
   "source": [
    "df1=pd.read_csv(\"../Data/celebdfvit.csv\")\n",
    "df1.head()\n",
    "\n",
    "X=df1.drop(columns=[\"label\"],axis=1)\n",
    "y=df1.label\n",
    "X_train, X_test, y_train, y_test = train_test_split(X, y, test_size=0.2, random_state=142)\n",
    "\n",
    "model1=Sequential()\n",
    "\n",
    "model1.add(Dense(64, activation='relu', input_shape=(X_train.shape[1],)))  \n",
    "model1.add(Dense(128, activation='relu', input_shape=(X_train.shape[1],)))  \n",
    "model1.add(Dense(1, activation='sigmoid'))\n",
    "\n",
    "model1.compile(optimizer='adam', loss='binary_crossentropy', metrics=['accuracy'])\n",
    "\n",
    "model1.fit(X_train,y_train,epochs=10)\n",
    "\n",
    "y_pred = model1.predict(X_test)\n",
    "\n",
    "# Convert predictions to binary values\n",
    "y_pred_binary = (y_pred > 0.5).astype(\"int32\")\n",
    "\n",
    "# Calculate evaluation metrics\n",
    "accuracy = accuracy_score(y_test, y_pred_binary)\n",
    "precision = precision_score(y_test, y_pred_binary)\n",
    "recall = recall_score(y_test, y_pred_binary)\n",
    "f1 = f1_score(y_test, y_pred_binary)\n",
    "\n",
    "print(\"Accuracy:\", accuracy)\n",
    "print(\"Precision:\", precision)\n",
    "print(\"Recall:\", recall)\n",
    "print(\"F1 Score:\", f1)"
   ]
  }
 ],
 "metadata": {
  "kernelspec": {
   "display_name": "Python 3",
   "language": "python",
   "name": "python3"
  },
  "language_info": {
   "codemirror_mode": {
    "name": "ipython",
    "version": 3
   },
   "file_extension": ".py",
   "mimetype": "text/x-python",
   "name": "python",
   "nbconvert_exporter": "python",
   "pygments_lexer": "ipython3",
   "version": "3.10.2"
  }
 },
 "nbformat": 4,
 "nbformat_minor": 2
}
