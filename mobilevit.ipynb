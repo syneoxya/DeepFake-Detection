{
 "cells": [
  {
   "cell_type": "code",
   "execution_count": 1,
   "metadata": {},
   "outputs": [
    {
     "name": "stderr",
     "output_type": "stream",
     "text": [
      "C:\\Users\\Akshat\\AppData\\Roaming\\Python\\Python310\\site-packages\\scipy\\__init__.py:146: UserWarning: A NumPy version >=1.17.3 and <1.25.0 is required for this version of SciPy (detected version 1.26.3\n",
      "  warnings.warn(f\"A NumPy version >={np_minversion} and <{np_maxversion}\"\n"
     ]
    },
    {
     "name": "stdout",
     "output_type": "stream",
     "text": [
      "WARNING:tensorflow:From C:\\Users\\Akshat\\AppData\\Roaming\\Python\\Python310\\site-packages\\keras\\src\\losses.py:2976: The name tf.losses.sparse_softmax_cross_entropy is deprecated. Please use tf.compat.v1.losses.sparse_softmax_cross_entropy instead.\n",
      "\n"
     ]
    }
   ],
   "source": [
    "from sklearn.model_selection import train_test_split\n",
    "import pandas as pd\n",
    "import numpy as np\n",
    "import tensorflow as tf\n",
    "\n",
    "from tensorflow.keras.models import Sequential\n",
    "from tensorflow.keras.layers import  Dense\n",
    "\n",
    "from sklearn.metrics import accuracy_score, precision_score, recall_score, f1_score"
   ]
  },
  {
   "cell_type": "code",
   "execution_count": 2,
   "metadata": {},
   "outputs": [
    {
     "name": "stdout",
     "output_type": "stream",
     "text": [
      "WARNING:tensorflow:From C:\\Users\\Akshat\\AppData\\Roaming\\Python\\Python310\\site-packages\\keras\\src\\backend.py:873: The name tf.get_default_graph is deprecated. Please use tf.compat.v1.get_default_graph instead.\n",
      "\n",
      "WARNING:tensorflow:From C:\\Users\\Akshat\\AppData\\Roaming\\Python\\Python310\\site-packages\\keras\\src\\optimizers\\__init__.py:309: The name tf.train.Optimizer is deprecated. Please use tf.compat.v1.train.Optimizer instead.\n",
      "\n",
      "Epoch 1/10\n",
      "WARNING:tensorflow:From C:\\Users\\Akshat\\AppData\\Roaming\\Python\\Python310\\site-packages\\keras\\src\\utils\\tf_utils.py:492: The name tf.ragged.RaggedTensorValue is deprecated. Please use tf.compat.v1.ragged.RaggedTensorValue instead.\n",
      "\n",
      "WARNING:tensorflow:From C:\\Users\\Akshat\\AppData\\Roaming\\Python\\Python310\\site-packages\\keras\\src\\engine\\base_layer_utils.py:384: The name tf.executing_eagerly_outside_functions is deprecated. Please use tf.compat.v1.executing_eagerly_outside_functions instead.\n",
      "\n",
      "846/846 [==============================] - 2s 1ms/step - loss: 1.9366 - accuracy: 0.7995\n",
      "Epoch 2/10\n",
      "846/846 [==============================] - 1s 1ms/step - loss: 0.6880 - accuracy: 0.8999\n",
      "Epoch 3/10\n",
      "846/846 [==============================] - 1s 1ms/step - loss: 0.7663 - accuracy: 0.8992\n",
      "Epoch 4/10\n",
      "846/846 [==============================] - 1s 1ms/step - loss: 0.3592 - accuracy: 0.9317\n",
      "Epoch 5/10\n",
      "846/846 [==============================] - 1s 1ms/step - loss: 0.6206 - accuracy: 0.9171\n",
      "Epoch 6/10\n",
      "846/846 [==============================] - 1s 1ms/step - loss: 0.5695 - accuracy: 0.9328\n",
      "Epoch 7/10\n",
      "846/846 [==============================] - 1s 1ms/step - loss: 0.2873 - accuracy: 0.9406\n",
      "Epoch 8/10\n",
      "846/846 [==============================] - 1s 1ms/step - loss: 0.4443 - accuracy: 0.9272\n",
      "Epoch 9/10\n",
      "846/846 [==============================] - 1s 1ms/step - loss: 0.2856 - accuracy: 0.9395\n",
      "Epoch 10/10\n",
      "846/846 [==============================] - 1s 1ms/step - loss: 0.2892 - accuracy: 0.9411\n",
      "212/212 [==============================] - 0s 752us/step\n",
      "Accuracy: 0.9312638580931264\n",
      "Precision: 0.8867740361151781\n",
      "Recall: 0.9997248968363136\n",
      "F1 Score: 0.9398680977628346\n"
     ]
    }
   ],
   "source": [
    "df=pd.read_csv(\"../Data/FFmobilevit.csv\")\n",
    "df.head()\n",
    "\n",
    "X=df.drop(columns=[\"label\"],axis=1)\n",
    "y=df.label\n",
    "X_train, X_test, y_train, y_test = train_test_split(X, y, test_size=0.2, random_state=142)\n",
    "\n",
    "model=Sequential()\n",
    "\n",
    "model.add(Dense(64, activation='relu', input_shape=(X_train.shape[1],)))  \n",
    "model.add(Dense(32, activation='relu'))  \n",
    "model.add(Dense(1, activation='sigmoid'))\n",
    "\n",
    "model.compile(optimizer='adam', loss='binary_crossentropy', metrics=['accuracy'])\n",
    "\n",
    "model.fit(X_train,y_train,epochs=10)\n",
    "\n",
    "y_pred = model.predict(X_test)\n",
    "\n",
    "# Convert predictions to binary values\n",
    "y_pred_binary = (y_pred > 0.5).astype(\"int32\")\n",
    "\n",
    "# Calculate evaluation metrics\n",
    "accuracy = accuracy_score(y_test, y_pred_binary)\n",
    "precision = precision_score(y_test, y_pred_binary)\n",
    "recall = recall_score(y_test, y_pred_binary)\n",
    "f1 = f1_score(y_test, y_pred_binary)\n",
    "\n",
    "print(\"Accuracy:\", accuracy)\n",
    "print(\"Precision:\", precision)\n",
    "print(\"Recall:\", recall)\n",
    "print(\"F1 Score:\", f1)"
   ]
  },
  {
   "cell_type": "code",
   "execution_count": 3,
   "metadata": {},
   "outputs": [
    {
     "name": "stdout",
     "output_type": "stream",
     "text": [
      "Epoch 1/10\n",
      "756/756 [==============================] - 1s 986us/step - loss: 3.8273 - accuracy: 0.7721\n",
      "Epoch 2/10\n",
      "756/756 [==============================] - 1s 1ms/step - loss: 1.3968 - accuracy: 0.8642\n",
      "Epoch 3/10\n",
      "756/756 [==============================] - 1s 960us/step - loss: 0.7950 - accuracy: 0.9029\n",
      "Epoch 4/10\n",
      "756/756 [==============================] - 1s 1ms/step - loss: 0.7335 - accuracy: 0.9062\n",
      "Epoch 5/10\n",
      "756/756 [==============================] - 1s 1ms/step - loss: 0.9681 - accuracy: 0.9055\n",
      "Epoch 6/10\n",
      "756/756 [==============================] - 1s 1ms/step - loss: 0.6509 - accuracy: 0.9226\n",
      "Epoch 7/10\n",
      "756/756 [==============================] - 1s 1ms/step - loss: 0.5212 - accuracy: 0.9284\n",
      "Epoch 8/10\n",
      "756/756 [==============================] - 1s 999us/step - loss: 0.4137 - accuracy: 0.9338\n",
      "Epoch 9/10\n",
      "756/756 [==============================] - 1s 1ms/step - loss: 0.5238 - accuracy: 0.9281\n",
      "Epoch 10/10\n",
      "756/756 [==============================] - 1s 999us/step - loss: 0.2785 - accuracy: 0.9426\n",
      "189/189 [==============================] - 0s 706us/step\n",
      "Accuracy: 0.9728746278531261\n",
      "Precision: 0.9792225201072386\n",
      "Recall: 0.9662698412698413\n",
      "F1 Score: 0.9727030625832224\n"
     ]
    }
   ],
   "source": [
    "df1=pd.read_csv(\"../Data/celebdfmobilevit.csv\")\n",
    "df1.head()\n",
    "\n",
    "X=df1.drop(columns=[\"label\"],axis=1)\n",
    "y=df1.label\n",
    "X_train, X_test, y_train, y_test = train_test_split(X, y, test_size=0.2, random_state=142)\n",
    "\n",
    "model1=Sequential()\n",
    "\n",
    "model1.add(Dense(64, activation='relu', input_shape=(X_train.shape[1],)))  \n",
    "model1.add(Dense(32, activation='relu'))  \n",
    "model1.add(Dense(1, activation='sigmoid'))\n",
    "\n",
    "model1.compile(optimizer='adam', loss='binary_crossentropy', metrics=['accuracy'])\n",
    "\n",
    "model1.fit(X_train,y_train,epochs=10)\n",
    "\n",
    "y_pred = model1.predict(X_test)\n",
    "\n",
    "# Convert predictions to binary values\n",
    "y_pred_binary = (y_pred > 0.5).astype(\"int32\")\n",
    "\n",
    "# Calculate evaluation metrics\n",
    "accuracy = accuracy_score(y_test, y_pred_binary)\n",
    "precision = precision_score(y_test, y_pred_binary)\n",
    "recall = recall_score(y_test, y_pred_binary)\n",
    "f1 = f1_score(y_test, y_pred_binary)\n",
    "\n",
    "print(\"Accuracy:\", accuracy)\n",
    "print(\"Precision:\", precision)\n",
    "print(\"Recall:\", recall)\n",
    "print(\"F1 Score:\", f1)"
   ]
  }
 ],
 "metadata": {
  "kernelspec": {
   "display_name": "Python 3",
   "language": "python",
   "name": "python3"
  },
  "language_info": {
   "codemirror_mode": {
    "name": "ipython",
    "version": 3
   },
   "file_extension": ".py",
   "mimetype": "text/x-python",
   "name": "python",
   "nbconvert_exporter": "python",
   "pygments_lexer": "ipython3",
   "version": "3.10.2"
  }
 },
 "nbformat": 4,
 "nbformat_minor": 2
}
