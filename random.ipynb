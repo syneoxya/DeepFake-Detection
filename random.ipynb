{
 "cells": [
  {
   "cell_type": "code",
   "execution_count": 1,
   "metadata": {},
   "outputs": [],
   "source": [
    "import pandas as pd"
   ]
  },
  {
   "cell_type": "code",
   "execution_count": 2,
   "metadata": {},
   "outputs": [],
   "source": [
    "df=pd.read_csv(\"../Data/Book1.csv\")"
   ]
  },
  {
   "cell_type": "code",
   "execution_count": 3,
   "metadata": {},
   "outputs": [
    {
     "data": {
      "text/html": [
       "<div>\n",
       "<style scoped>\n",
       "    .dataframe tbody tr th:only-of-type {\n",
       "        vertical-align: middle;\n",
       "    }\n",
       "\n",
       "    .dataframe tbody tr th {\n",
       "        vertical-align: top;\n",
       "    }\n",
       "\n",
       "    .dataframe thead th {\n",
       "        text-align: right;\n",
       "    }\n",
       "</style>\n",
       "<table border=\"1\" class=\"dataframe\">\n",
       "  <thead>\n",
       "    <tr style=\"text-align: right;\">\n",
       "      <th></th>\n",
       "      <th>Sl.No.</th>\n",
       "      <th>Course Code</th>\n",
       "      <th>Course Title</th>\n",
       "      <th>Course Type</th>\n",
       "      <th>Credits</th>\n",
       "      <th>Grade</th>\n",
       "      <th>Exam Month</th>\n",
       "      <th>Result Declared</th>\n",
       "      <th>Course Distribution</th>\n",
       "      <th>Detail View</th>\n",
       "    </tr>\n",
       "  </thead>\n",
       "  <tbody>\n",
       "    <tr>\n",
       "      <th>0</th>\n",
       "      <td>1</td>\n",
       "      <td>CHY1002</td>\n",
       "      <td>Environmental Sciences</td>\n",
       "      <td>TH</td>\n",
       "      <td>3</td>\n",
       "      <td>A</td>\n",
       "      <td>Feb-21</td>\n",
       "      <td>26-Mar-21</td>\n",
       "      <td>NC</td>\n",
       "      <td>NaN</td>\n",
       "    </tr>\n",
       "    <tr>\n",
       "      <th>1</th>\n",
       "      <td>2</td>\n",
       "      <td>CSE1001</td>\n",
       "      <td>Problem Solving and Programming</td>\n",
       "      <td>LO</td>\n",
       "      <td>3</td>\n",
       "      <td>S</td>\n",
       "      <td>Feb-21</td>\n",
       "      <td>10-Mar-21</td>\n",
       "      <td>UC</td>\n",
       "      <td>NaN</td>\n",
       "    </tr>\n",
       "    <tr>\n",
       "      <th>2</th>\n",
       "      <td>3</td>\n",
       "      <td>EEE1001</td>\n",
       "      <td>Basic Electrical and Electronics Engineering</td>\n",
       "      <td>ETL</td>\n",
       "      <td>3</td>\n",
       "      <td>B</td>\n",
       "      <td>Feb-21</td>\n",
       "      <td>26-Mar-21</td>\n",
       "      <td>PC</td>\n",
       "      <td>NaN</td>\n",
       "    </tr>\n",
       "    <tr>\n",
       "      <th>3</th>\n",
       "      <td>4</td>\n",
       "      <td>ENG1903</td>\n",
       "      <td>Advanced Technical English</td>\n",
       "      <td>ELP</td>\n",
       "      <td>2</td>\n",
       "      <td>A</td>\n",
       "      <td>Feb-21</td>\n",
       "      <td>11-Mar-21</td>\n",
       "      <td>UC</td>\n",
       "      <td>NaN</td>\n",
       "    </tr>\n",
       "    <tr>\n",
       "      <th>4</th>\n",
       "      <td>5</td>\n",
       "      <td>FRE1001</td>\n",
       "      <td>Francais quotidien</td>\n",
       "      <td>TH</td>\n",
       "      <td>2</td>\n",
       "      <td>S</td>\n",
       "      <td>Feb-21</td>\n",
       "      <td>26-Mar-21</td>\n",
       "      <td>UC</td>\n",
       "      <td>NaN</td>\n",
       "    </tr>\n",
       "  </tbody>\n",
       "</table>\n",
       "</div>"
      ],
      "text/plain": [
       "   Sl.No. Course Code                                  Course Title  \\\n",
       "0       1     CHY1002                        Environmental Sciences   \n",
       "1       2     CSE1001               Problem Solving and Programming   \n",
       "2       3     EEE1001  Basic Electrical and Electronics Engineering   \n",
       "3       4     ENG1903                    Advanced Technical English   \n",
       "4       5     FRE1001                            Francais quotidien   \n",
       "\n",
       "  Course Type  Credits Grade Exam Month Result Declared Course Distribution  \\\n",
       "0          TH        3     A     Feb-21       26-Mar-21                  NC   \n",
       "1          LO        3     S     Feb-21       10-Mar-21                  UC   \n",
       "2         ETL        3     B     Feb-21       26-Mar-21                  PC   \n",
       "3         ELP        2     A     Feb-21       11-Mar-21                  UC   \n",
       "4          TH        2     S     Feb-21       26-Mar-21                  UC   \n",
       "\n",
       "   Detail View  \n",
       "0          NaN  \n",
       "1          NaN  \n",
       "2          NaN  \n",
       "3          NaN  \n",
       "4          NaN  "
      ]
     },
     "execution_count": 3,
     "metadata": {},
     "output_type": "execute_result"
    }
   ],
   "source": [
    "df.head()"
   ]
  },
  {
   "cell_type": "code",
   "execution_count": 4,
   "metadata": {},
   "outputs": [
    {
     "data": {
      "text/plain": [
       "52"
      ]
     },
     "execution_count": 4,
     "metadata": {},
     "output_type": "execute_result"
    }
   ],
   "source": [
    "len(df)"
   ]
  },
  {
   "cell_type": "code",
   "execution_count": 5,
   "metadata": {},
   "outputs": [],
   "source": [
    "a=[]\n",
    "for i in range(len(df)):\n",
    "    if df[\"Grade\"][i]==\"S\":\n",
    "        a.append(10)\n",
    "    elif df[\"Grade\"][i]==\"A\":\n",
    "        a.append(9)\n",
    "    elif df[\"Grade\"][i]==\"B\":\n",
    "        a.append(8)\n",
    "    elif df[\"Grade\"][i]==\"C\":\n",
    "        a.append(7)\n",
    "    elif df[\"Grade\"][i]==\"D\":\n",
    "        a.append(6)\n",
    "    elif df[\"Grade\"][i]==\"P\":\n",
    "        a.append(0)\n"
   ]
  },
  {
   "cell_type": "code",
   "execution_count": 6,
   "metadata": {},
   "outputs": [],
   "source": [
    "df[\"Grades\"]=a"
   ]
  },
  {
   "cell_type": "code",
   "execution_count": 7,
   "metadata": {},
   "outputs": [
    {
     "data": {
      "text/html": [
       "<div>\n",
       "<style scoped>\n",
       "    .dataframe tbody tr th:only-of-type {\n",
       "        vertical-align: middle;\n",
       "    }\n",
       "\n",
       "    .dataframe tbody tr th {\n",
       "        vertical-align: top;\n",
       "    }\n",
       "\n",
       "    .dataframe thead th {\n",
       "        text-align: right;\n",
       "    }\n",
       "</style>\n",
       "<table border=\"1\" class=\"dataframe\">\n",
       "  <thead>\n",
       "    <tr style=\"text-align: right;\">\n",
       "      <th></th>\n",
       "      <th>Sl.No.</th>\n",
       "      <th>Credits</th>\n",
       "      <th>Detail View</th>\n",
       "      <th>Grades</th>\n",
       "    </tr>\n",
       "  </thead>\n",
       "  <tbody>\n",
       "    <tr>\n",
       "      <th>count</th>\n",
       "      <td>52.000000</td>\n",
       "      <td>52.000000</td>\n",
       "      <td>0.0</td>\n",
       "      <td>52.000000</td>\n",
       "    </tr>\n",
       "    <tr>\n",
       "      <th>mean</th>\n",
       "      <td>26.500000</td>\n",
       "      <td>2.942308</td>\n",
       "      <td>NaN</td>\n",
       "      <td>8.942308</td>\n",
       "    </tr>\n",
       "    <tr>\n",
       "      <th>std</th>\n",
       "      <td>15.154757</td>\n",
       "      <td>1.109910</td>\n",
       "      <td>NaN</td>\n",
       "      <td>1.487378</td>\n",
       "    </tr>\n",
       "    <tr>\n",
       "      <th>min</th>\n",
       "      <td>1.000000</td>\n",
       "      <td>1.000000</td>\n",
       "      <td>NaN</td>\n",
       "      <td>0.000000</td>\n",
       "    </tr>\n",
       "    <tr>\n",
       "      <th>25%</th>\n",
       "      <td>13.750000</td>\n",
       "      <td>2.000000</td>\n",
       "      <td>NaN</td>\n",
       "      <td>9.000000</td>\n",
       "    </tr>\n",
       "    <tr>\n",
       "      <th>50%</th>\n",
       "      <td>26.500000</td>\n",
       "      <td>3.000000</td>\n",
       "      <td>NaN</td>\n",
       "      <td>9.000000</td>\n",
       "    </tr>\n",
       "    <tr>\n",
       "      <th>75%</th>\n",
       "      <td>39.250000</td>\n",
       "      <td>4.000000</td>\n",
       "      <td>NaN</td>\n",
       "      <td>10.000000</td>\n",
       "    </tr>\n",
       "    <tr>\n",
       "      <th>max</th>\n",
       "      <td>52.000000</td>\n",
       "      <td>4.000000</td>\n",
       "      <td>NaN</td>\n",
       "      <td>10.000000</td>\n",
       "    </tr>\n",
       "  </tbody>\n",
       "</table>\n",
       "</div>"
      ],
      "text/plain": [
       "          Sl.No.    Credits  Detail View     Grades\n",
       "count  52.000000  52.000000          0.0  52.000000\n",
       "mean   26.500000   2.942308          NaN   8.942308\n",
       "std    15.154757   1.109910          NaN   1.487378\n",
       "min     1.000000   1.000000          NaN   0.000000\n",
       "25%    13.750000   2.000000          NaN   9.000000\n",
       "50%    26.500000   3.000000          NaN   9.000000\n",
       "75%    39.250000   4.000000          NaN  10.000000\n",
       "max    52.000000   4.000000          NaN  10.000000"
      ]
     },
     "execution_count": 7,
     "metadata": {},
     "output_type": "execute_result"
    }
   ],
   "source": [
    "df.describe()"
   ]
  },
  {
   "cell_type": "code",
   "execution_count": 8,
   "metadata": {},
   "outputs": [],
   "source": [
    "credits=148\n",
    "creds=0\n",
    "cse_total=0"
   ]
  },
  {
   "cell_type": "code",
   "execution_count": 14,
   "metadata": {},
   "outputs": [
    {
     "name": "stdout",
     "output_type": "stream",
     "text": [
      "927\n",
      "101\n"
     ]
    }
   ],
   "source": [
    "creds=0\n",
    "cse_total=0\n",
    "for i in range(0,len(df)):\n",
    "    if df[\"Course Distribution\"][i]==\"PC\" or df[\"Course Distribution\"][i]==\"UC\":\n",
    "        creds+=df[\"Credits\"][i]\n",
    "        cse_total+=df[\"Credits\"][i]*df[\"Grades\"][i]\n",
    "\n",
    "print(cse_total)\n",
    "print(creds)"
   ]
  },
  {
   "cell_type": "code",
   "execution_count": 16,
   "metadata": {},
   "outputs": [
    {
     "data": {
      "text/plain": [
       "9.178217821782178"
      ]
     },
     "execution_count": 16,
     "metadata": {},
     "output_type": "execute_result"
    }
   ],
   "source": [
    "927/101"
   ]
  },
  {
   "cell_type": "code",
   "execution_count": null,
   "metadata": {},
   "outputs": [],
   "source": [
    "tsne = TSNE(n_components=2, random_state=42)\n",
    "X_tsne = tsne.fit_transform(X)\n",
    "\n",
    "# Plot the results\n",
    "plt.figure(figsize=(8, 6))\n",
    "plt.scatter(X_tsne[:, 0], X_tsne[:, 1], c=y, cmap=plt.cm.get_cmap(\"viridis\", 3))\n",
    "plt.colorbar(ticks=range(3), label='Classes')\n",
    "plt.title('t-SNE Representation of Iris Dataset')\n",
    "plt.xlabel('t-SNE Component 1')\n",
    "plt.ylabel('t-SNE Component 2')\n",
    "plt.show()"
   ]
  }
 ],
 "metadata": {
  "kernelspec": {
   "display_name": "Python 3",
   "language": "python",
   "name": "python3"
  },
  "language_info": {
   "codemirror_mode": {
    "name": "ipython",
    "version": 3
   },
   "file_extension": ".py",
   "mimetype": "text/x-python",
   "name": "python",
   "nbconvert_exporter": "python",
   "pygments_lexer": "ipython3",
   "version": "3.10.2"
  }
 },
 "nbformat": 4,
 "nbformat_minor": 2
}
