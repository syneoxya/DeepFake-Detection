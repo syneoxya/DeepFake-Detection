{
 "cells": [
  {
   "cell_type": "code",
   "execution_count": 1,
   "metadata": {
    "executionInfo": {
     "elapsed": 9722,
     "status": "ok",
     "timestamp": 1706806206272,
     "user": {
      "displayName": "Akshat Chauhan",
      "userId": "17341191293424364314"
     },
     "user_tz": -330
    },
    "id": "6fYECqaJowfz"
   },
   "outputs": [],
   "source": [
    "from sklearn.model_selection import train_test_split\n",
    "import pandas as pd\n",
    "import matplotlib.pyplot as plt"
   ]
  },
  {
   "cell_type": "code",
   "execution_count": 2,
   "metadata": {},
   "outputs": [],
   "source": [
    "from tensorflow.keras.regularizers import l2"
   ]
  },
  {
   "cell_type": "code",
   "execution_count": 3,
   "metadata": {},
   "outputs": [],
   "source": [
    "import tensorflow as tf"
   ]
  },
  {
   "cell_type": "code",
   "execution_count": 4,
   "metadata": {},
   "outputs": [],
   "source": [
    "image_size = (224, 224)  # Adjust according to the input size expected by the chosen model\n",
    "batch_size = 32\n",
    "epochs = 100\n",
    "test_split = 0.1\n",
    "validation_split = 0.2"
   ]
  },
  {
   "cell_type": "code",
   "execution_count": 8,
   "metadata": {},
   "outputs": [],
   "source": [
    "data_dir = '../Data/sampled_Faces/ELA_Frames'"
   ]
  },
  {
   "cell_type": "code",
   "execution_count": 10,
   "metadata": {},
   "outputs": [],
   "source": [
    "datagen = tf.keras.preprocessing.image.ImageDataGenerator(\n",
    "    rescale=1./255,\n",
    "    shear_range=0.2,\n",
    "    zoom_range=0.2,\n",
    "    horizontal_flip=True,\n",
    "    validation_split=validation_split,\n",
    "    data_format = 'channels_first'\n",
    ")"
   ]
  },
  {
   "cell_type": "code",
   "execution_count": 11,
   "metadata": {},
   "outputs": [
    {
     "name": "stdout",
     "output_type": "stream",
     "text": [
      "Found 33823 images belonging to 2 classes.\n"
     ]
    }
   ],
   "source": [
    "generator = datagen.flow_from_directory(\n",
    "    data_dir,\n",
    "    target_size=image_size,\n",
    "    batch_size=batch_size,\n",
    "    class_mode='categorical',\n",
    ")\n",
    "\n",
    "# Split the data into training, validation, and test sets\n",
    "train_images, test_images, train_labels, test_labels = train_test_split(\n",
    "    generator.filepaths,\n",
    "    generator.labels.astype(str),  # Convert labels to strings\n",
    "    test_size=test_split,\n",
    "    random_state=42\n",
    ")\n",
    "\n",
    "train_images, val_images, train_labels, val_labels = train_test_split(\n",
    "    train_images,\n",
    "    train_labels,\n",
    "    test_size=validation_split,\n",
    "    random_state=42\n",
    ")"
   ]
  },
  {
   "cell_type": "code",
   "execution_count": 12,
   "metadata": {},
   "outputs": [],
   "source": [
    "test_datagen = tf.keras.preprocessing.image.ImageDataGenerator(rescale=1./255)"
   ]
  },
  {
   "cell_type": "code",
   "execution_count": 13,
   "metadata": {},
   "outputs": [
    {
     "name": "stdout",
     "output_type": "stream",
     "text": [
      "Found 19482 validated image filenames belonging to 2 classes.\n",
      "Found 1217 validated image filenames belonging to 2 classes.\n",
      "Found 3383 validated image filenames belonging to 2 classes.\n"
     ]
    }
   ],
   "source": [
    "train_generator = datagen.flow_from_dataframe(\n",
    "    pd.DataFrame({'filepath': train_images, 'class': train_labels}),\n",
    "    x_col='filepath',\n",
    "    y_col='class',\n",
    "    target_size=image_size,\n",
    "    batch_size=batch_size,\n",
    "    class_mode='categorical',\n",
    "    subset='training'\n",
    ")\n",
    "\n",
    "val_generator = datagen.flow_from_dataframe(\n",
    "    pd.DataFrame({'filepath': val_images, 'class': val_labels}),\n",
    "    x_col='filepath',\n",
    "    y_col='class',\n",
    "    target_size=image_size,\n",
    "    batch_size=batch_size,\n",
    "    class_mode='categorical',\n",
    "    subset='validation'\n",
    ")\n",
    "\n",
    "test_generator = datagen.flow_from_dataframe(\n",
    "    pd.DataFrame({'filepath': test_images, 'class': test_labels}),\n",
    "    x_col='filepath',\n",
    "    y_col='class',\n",
    "    target_size=image_size,\n",
    "    batch_size=batch_size,\n",
    "    class_mode='categorical',\n",
    "    shuffle=False  \n",
    ")"
   ]
  },
  {
   "cell_type": "code",
   "execution_count": 16,
   "metadata": {
    "executionInfo": {
     "elapsed": 5469,
     "status": "ok",
     "timestamp": 1706806457568,
     "user": {
      "displayName": "Akshat Chauhan",
      "userId": "17341191293424364314"
     },
     "user_tz": -330
    },
    "id": "F8lsGd24xQAW"
   },
   "outputs": [
    {
     "ename": "ImportError",
     "evalue": "cannot import name 'logging' from 'huggingface_hub' (d:\\AnaConda\\envs\\Cap\\lib\\site-packages\\huggingface_hub\\__init__.py)",
     "output_type": "error",
     "traceback": [
      "\u001b[1;31m---------------------------------------------------------------------------\u001b[0m",
      "\u001b[1;31mImportError\u001b[0m                               Traceback (most recent call last)",
      "Cell \u001b[1;32mIn[16], line 1\u001b[0m\n\u001b[1;32m----> 1\u001b[0m \u001b[38;5;28;01mfrom\u001b[39;00m \u001b[38;5;21;01mtransformers\u001b[39;00m \u001b[38;5;28;01mimport\u001b[39;00m AutoImageProcessor, TFEfficientFormerModel\n",
      "File \u001b[1;32md:\\AnaConda\\envs\\Cap\\lib\\site-packages\\transformers\\__init__.py:26\u001b[0m\n\u001b[0;32m     23\u001b[0m \u001b[38;5;28;01mfrom\u001b[39;00m \u001b[38;5;21;01mtyping\u001b[39;00m \u001b[38;5;28;01mimport\u001b[39;00m TYPE_CHECKING\n\u001b[0;32m     25\u001b[0m \u001b[38;5;66;03m# Check the dependencies satisfy the minimal versions required.\u001b[39;00m\n\u001b[1;32m---> 26\u001b[0m \u001b[38;5;28;01mfrom\u001b[39;00m \u001b[38;5;21;01m.\u001b[39;00m \u001b[38;5;28;01mimport\u001b[39;00m dependency_versions_check\n\u001b[0;32m     27\u001b[0m \u001b[38;5;28;01mfrom\u001b[39;00m \u001b[38;5;21;01m.\u001b[39;00m\u001b[38;5;21;01mutils\u001b[39;00m \u001b[38;5;28;01mimport\u001b[39;00m (\n\u001b[0;32m     28\u001b[0m     OptionalDependencyNotAvailable,\n\u001b[0;32m     29\u001b[0m     _LazyModule,\n\u001b[1;32m   (...)\u001b[0m\n\u001b[0;32m     47\u001b[0m     logging,\n\u001b[0;32m     48\u001b[0m )\n\u001b[0;32m     51\u001b[0m logger \u001b[38;5;241m=\u001b[39m logging\u001b[38;5;241m.\u001b[39mget_logger(\u001b[38;5;18m__name__\u001b[39m)  \u001b[38;5;66;03m# pylint: disable=invalid-name\u001b[39;00m\n",
      "File \u001b[1;32md:\\AnaConda\\envs\\Cap\\lib\\site-packages\\transformers\\dependency_versions_check.py:16\u001b[0m\n\u001b[0;32m      1\u001b[0m \u001b[38;5;66;03m# Copyright 2020 The HuggingFace Team. All rights reserved.\u001b[39;00m\n\u001b[0;32m      2\u001b[0m \u001b[38;5;66;03m#\u001b[39;00m\n\u001b[0;32m      3\u001b[0m \u001b[38;5;66;03m# Licensed under the Apache License, Version 2.0 (the \"License\");\u001b[39;00m\n\u001b[1;32m   (...)\u001b[0m\n\u001b[0;32m     12\u001b[0m \u001b[38;5;66;03m# See the License for the specific language governing permissions and\u001b[39;00m\n\u001b[0;32m     13\u001b[0m \u001b[38;5;66;03m# limitations under the License.\u001b[39;00m\n\u001b[0;32m     15\u001b[0m \u001b[38;5;28;01mfrom\u001b[39;00m \u001b[38;5;21;01m.\u001b[39;00m\u001b[38;5;21;01mdependency_versions_table\u001b[39;00m \u001b[38;5;28;01mimport\u001b[39;00m deps\n\u001b[1;32m---> 16\u001b[0m \u001b[38;5;28;01mfrom\u001b[39;00m \u001b[38;5;21;01m.\u001b[39;00m\u001b[38;5;21;01mutils\u001b[39;00m\u001b[38;5;21;01m.\u001b[39;00m\u001b[38;5;21;01mversions\u001b[39;00m \u001b[38;5;28;01mimport\u001b[39;00m require_version, require_version_core\n\u001b[0;32m     19\u001b[0m \u001b[38;5;66;03m# define which module versions we always want to check at run time\u001b[39;00m\n\u001b[0;32m     20\u001b[0m \u001b[38;5;66;03m# (usually the ones defined in `install_requires` in setup.py)\u001b[39;00m\n\u001b[0;32m     21\u001b[0m \u001b[38;5;66;03m#\u001b[39;00m\n\u001b[0;32m     22\u001b[0m \u001b[38;5;66;03m# order specific notes:\u001b[39;00m\n\u001b[0;32m     23\u001b[0m \u001b[38;5;66;03m# - tqdm must be checked before tokenizers\u001b[39;00m\n\u001b[0;32m     25\u001b[0m pkgs_to_check_at_runtime \u001b[38;5;241m=\u001b[39m [\n\u001b[0;32m     26\u001b[0m     \u001b[38;5;124m\"\u001b[39m\u001b[38;5;124mpython\u001b[39m\u001b[38;5;124m\"\u001b[39m,\n\u001b[0;32m     27\u001b[0m     \u001b[38;5;124m\"\u001b[39m\u001b[38;5;124mtqdm\u001b[39m\u001b[38;5;124m\"\u001b[39m,\n\u001b[1;32m   (...)\u001b[0m\n\u001b[0;32m     37\u001b[0m     \u001b[38;5;124m\"\u001b[39m\u001b[38;5;124mpyyaml\u001b[39m\u001b[38;5;124m\"\u001b[39m,\n\u001b[0;32m     38\u001b[0m ]\n",
      "File \u001b[1;32md:\\AnaConda\\envs\\Cap\\lib\\site-packages\\transformers\\utils\\__init__.py:18\u001b[0m\n\u001b[0;32m      1\u001b[0m \u001b[38;5;66;03m#!/usr/bin/env python\u001b[39;00m\n\u001b[0;32m      2\u001b[0m \u001b[38;5;66;03m# coding=utf-8\u001b[39;00m\n\u001b[0;32m      3\u001b[0m \n\u001b[1;32m   (...)\u001b[0m\n\u001b[0;32m     15\u001b[0m \u001b[38;5;66;03m# See the License for the specific language governing permissions and\u001b[39;00m\n\u001b[0;32m     16\u001b[0m \u001b[38;5;66;03m# limitations under the License.\u001b[39;00m\n\u001b[1;32m---> 18\u001b[0m \u001b[38;5;28;01mfrom\u001b[39;00m \u001b[38;5;21;01mhuggingface_hub\u001b[39;00m \u001b[38;5;28;01mimport\u001b[39;00m get_full_repo_name  \u001b[38;5;66;03m# for backward compatibility\u001b[39;00m\n\u001b[0;32m     19\u001b[0m \u001b[38;5;28;01mfrom\u001b[39;00m \u001b[38;5;21;01mhuggingface_hub\u001b[39;00m\u001b[38;5;21;01m.\u001b[39;00m\u001b[38;5;21;01mconstants\u001b[39;00m \u001b[38;5;28;01mimport\u001b[39;00m HF_HUB_DISABLE_TELEMETRY \u001b[38;5;28;01mas\u001b[39;00m DISABLE_TELEMETRY  \u001b[38;5;66;03m# for backward compatibility\u001b[39;00m\n\u001b[0;32m     20\u001b[0m \u001b[38;5;28;01mfrom\u001b[39;00m \u001b[38;5;21;01mpackaging\u001b[39;00m \u001b[38;5;28;01mimport\u001b[39;00m version\n",
      "File \u001b[1;32md:\\AnaConda\\envs\\Cap\\lib\\site-packages\\huggingface_hub\\__init__.py:370\u001b[0m, in \u001b[0;36m_attach.<locals>.__getattr__\u001b[1;34m(name)\u001b[0m\n\u001b[0;32m    368\u001b[0m \u001b[38;5;28;01melif\u001b[39;00m name \u001b[38;5;129;01min\u001b[39;00m attr_to_modules:\n\u001b[0;32m    369\u001b[0m     submod_path \u001b[38;5;241m=\u001b[39m \u001b[38;5;124mf\u001b[39m\u001b[38;5;124m\"\u001b[39m\u001b[38;5;132;01m{\u001b[39;00mpackage_name\u001b[38;5;132;01m}\u001b[39;00m\u001b[38;5;124m.\u001b[39m\u001b[38;5;132;01m{\u001b[39;00mattr_to_modules[name]\u001b[38;5;132;01m}\u001b[39;00m\u001b[38;5;124m\"\u001b[39m\n\u001b[1;32m--> 370\u001b[0m     submod \u001b[38;5;241m=\u001b[39m \u001b[43mimportlib\u001b[49m\u001b[38;5;241;43m.\u001b[39;49m\u001b[43mimport_module\u001b[49m\u001b[43m(\u001b[49m\u001b[43msubmod_path\u001b[49m\u001b[43m)\u001b[49m\n\u001b[0;32m    371\u001b[0m     attr \u001b[38;5;241m=\u001b[39m \u001b[38;5;28mgetattr\u001b[39m(submod, name)\n\u001b[0;32m    373\u001b[0m     \u001b[38;5;66;03m# If the attribute lives in a file (module) with the same\u001b[39;00m\n\u001b[0;32m    374\u001b[0m     \u001b[38;5;66;03m# name as the attribute, ensure that the attribute and *not*\u001b[39;00m\n\u001b[0;32m    375\u001b[0m     \u001b[38;5;66;03m# the module is accessible on the package.\u001b[39;00m\n",
      "File \u001b[1;32md:\\AnaConda\\envs\\Cap\\lib\\importlib\\__init__.py:127\u001b[0m, in \u001b[0;36mimport_module\u001b[1;34m(name, package)\u001b[0m\n\u001b[0;32m    125\u001b[0m             \u001b[38;5;28;01mbreak\u001b[39;00m\n\u001b[0;32m    126\u001b[0m         level \u001b[38;5;241m+\u001b[39m\u001b[38;5;241m=\u001b[39m \u001b[38;5;241m1\u001b[39m\n\u001b[1;32m--> 127\u001b[0m \u001b[38;5;28;01mreturn\u001b[39;00m \u001b[43m_bootstrap\u001b[49m\u001b[38;5;241;43m.\u001b[39;49m\u001b[43m_gcd_import\u001b[49m\u001b[43m(\u001b[49m\u001b[43mname\u001b[49m\u001b[43m[\u001b[49m\u001b[43mlevel\u001b[49m\u001b[43m:\u001b[49m\u001b[43m]\u001b[49m\u001b[43m,\u001b[49m\u001b[43m \u001b[49m\u001b[43mpackage\u001b[49m\u001b[43m,\u001b[49m\u001b[43m \u001b[49m\u001b[43mlevel\u001b[49m\u001b[43m)\u001b[49m\n",
      "File \u001b[1;32md:\\AnaConda\\envs\\Cap\\lib\\site-packages\\huggingface_hub\\hf_api.py:51\u001b[0m\n\u001b[0;32m     48\u001b[0m \u001b[38;5;28;01mfrom\u001b[39;00m \u001b[38;5;21;01mtqdm\u001b[39;00m\u001b[38;5;21;01m.\u001b[39;00m\u001b[38;5;21;01mauto\u001b[39;00m \u001b[38;5;28;01mimport\u001b[39;00m tqdm \u001b[38;5;28;01mas\u001b[39;00m base_tqdm\n\u001b[0;32m     49\u001b[0m \u001b[38;5;28;01mfrom\u001b[39;00m \u001b[38;5;21;01mtqdm\u001b[39;00m\u001b[38;5;21;01m.\u001b[39;00m\u001b[38;5;21;01mcontrib\u001b[39;00m\u001b[38;5;21;01m.\u001b[39;00m\u001b[38;5;21;01mconcurrent\u001b[39;00m \u001b[38;5;28;01mimport\u001b[39;00m thread_map\n\u001b[1;32m---> 51\u001b[0m \u001b[38;5;28;01mfrom\u001b[39;00m \u001b[38;5;21;01m.\u001b[39;00m\u001b[38;5;21;01m_commit_api\u001b[39;00m \u001b[38;5;28;01mimport\u001b[39;00m (\n\u001b[0;32m     52\u001b[0m     CommitOperation,\n\u001b[0;32m     53\u001b[0m     CommitOperationAdd,\n\u001b[0;32m     54\u001b[0m     CommitOperationCopy,\n\u001b[0;32m     55\u001b[0m     CommitOperationDelete,\n\u001b[0;32m     56\u001b[0m     _fetch_lfs_files_to_copy,\n\u001b[0;32m     57\u001b[0m     _fetch_upload_modes,\n\u001b[0;32m     58\u001b[0m     _prepare_commit_payload,\n\u001b[0;32m     59\u001b[0m     _upload_lfs_files,\n\u001b[0;32m     60\u001b[0m     _warn_on_overwriting_operations,\n\u001b[0;32m     61\u001b[0m )\n\u001b[0;32m     62\u001b[0m \u001b[38;5;28;01mfrom\u001b[39;00m \u001b[38;5;21;01m.\u001b[39;00m\u001b[38;5;21;01m_inference_endpoints\u001b[39;00m \u001b[38;5;28;01mimport\u001b[39;00m InferenceEndpoint, InferenceEndpointType\n\u001b[0;32m     63\u001b[0m \u001b[38;5;28;01mfrom\u001b[39;00m \u001b[38;5;21;01m.\u001b[39;00m\u001b[38;5;21;01m_multi_commits\u001b[39;00m \u001b[38;5;28;01mimport\u001b[39;00m (\n\u001b[0;32m     64\u001b[0m     MULTI_COMMIT_PR_CLOSE_COMMENT_FAILURE_BAD_REQUEST_TEMPLATE,\n\u001b[0;32m     65\u001b[0m     MULTI_COMMIT_PR_CLOSE_COMMENT_FAILURE_NO_CHANGES_TEMPLATE,\n\u001b[1;32m   (...)\u001b[0m\n\u001b[0;32m     74\u001b[0m     plan_multi_commits,\n\u001b[0;32m     75\u001b[0m )\n",
      "File \u001b[1;32md:\\AnaConda\\envs\\Cap\\lib\\site-packages\\huggingface_hub\\_commit_api.py:17\u001b[0m\n\u001b[0;32m     13\u001b[0m \u001b[38;5;28;01mfrom\u001b[39;00m \u001b[38;5;21;01mtyping\u001b[39;00m \u001b[38;5;28;01mimport\u001b[39;00m TYPE_CHECKING, Any, BinaryIO, Dict, Iterable, Iterator, List, Literal, Optional, Tuple, Union\n\u001b[0;32m     15\u001b[0m \u001b[38;5;28;01mfrom\u001b[39;00m \u001b[38;5;21;01mtqdm\u001b[39;00m\u001b[38;5;21;01m.\u001b[39;00m\u001b[38;5;21;01mcontrib\u001b[39;00m\u001b[38;5;21;01m.\u001b[39;00m\u001b[38;5;21;01mconcurrent\u001b[39;00m \u001b[38;5;28;01mimport\u001b[39;00m thread_map\n\u001b[1;32m---> 17\u001b[0m \u001b[38;5;28;01mfrom\u001b[39;00m \u001b[38;5;21;01mhuggingface_hub\u001b[39;00m \u001b[38;5;28;01mimport\u001b[39;00m get_session\n\u001b[0;32m     19\u001b[0m \u001b[38;5;28;01mfrom\u001b[39;00m \u001b[38;5;21;01m.\u001b[39;00m\u001b[38;5;21;01mconstants\u001b[39;00m \u001b[38;5;28;01mimport\u001b[39;00m ENDPOINT, HF_HUB_ENABLE_HF_TRANSFER\n\u001b[0;32m     20\u001b[0m \u001b[38;5;28;01mfrom\u001b[39;00m \u001b[38;5;21;01m.\u001b[39;00m\u001b[38;5;21;01mlfs\u001b[39;00m \u001b[38;5;28;01mimport\u001b[39;00m UploadInfo, lfs_upload, post_lfs_batch_info\n",
      "File \u001b[1;32md:\\AnaConda\\envs\\Cap\\lib\\site-packages\\huggingface_hub\\__init__.py:370\u001b[0m, in \u001b[0;36m_attach.<locals>.__getattr__\u001b[1;34m(name)\u001b[0m\n\u001b[0;32m    368\u001b[0m \u001b[38;5;28;01melif\u001b[39;00m name \u001b[38;5;129;01min\u001b[39;00m attr_to_modules:\n\u001b[0;32m    369\u001b[0m     submod_path \u001b[38;5;241m=\u001b[39m \u001b[38;5;124mf\u001b[39m\u001b[38;5;124m\"\u001b[39m\u001b[38;5;132;01m{\u001b[39;00mpackage_name\u001b[38;5;132;01m}\u001b[39;00m\u001b[38;5;124m.\u001b[39m\u001b[38;5;132;01m{\u001b[39;00mattr_to_modules[name]\u001b[38;5;132;01m}\u001b[39;00m\u001b[38;5;124m\"\u001b[39m\n\u001b[1;32m--> 370\u001b[0m     submod \u001b[38;5;241m=\u001b[39m \u001b[43mimportlib\u001b[49m\u001b[38;5;241;43m.\u001b[39;49m\u001b[43mimport_module\u001b[49m\u001b[43m(\u001b[49m\u001b[43msubmod_path\u001b[49m\u001b[43m)\u001b[49m\n\u001b[0;32m    371\u001b[0m     attr \u001b[38;5;241m=\u001b[39m \u001b[38;5;28mgetattr\u001b[39m(submod, name)\n\u001b[0;32m    373\u001b[0m     \u001b[38;5;66;03m# If the attribute lives in a file (module) with the same\u001b[39;00m\n\u001b[0;32m    374\u001b[0m     \u001b[38;5;66;03m# name as the attribute, ensure that the attribute and *not*\u001b[39;00m\n\u001b[0;32m    375\u001b[0m     \u001b[38;5;66;03m# the module is accessible on the package.\u001b[39;00m\n",
      "File \u001b[1;32md:\\AnaConda\\envs\\Cap\\lib\\importlib\\__init__.py:127\u001b[0m, in \u001b[0;36mimport_module\u001b[1;34m(name, package)\u001b[0m\n\u001b[0;32m    125\u001b[0m             \u001b[38;5;28;01mbreak\u001b[39;00m\n\u001b[0;32m    126\u001b[0m         level \u001b[38;5;241m+\u001b[39m\u001b[38;5;241m=\u001b[39m \u001b[38;5;241m1\u001b[39m\n\u001b[1;32m--> 127\u001b[0m \u001b[38;5;28;01mreturn\u001b[39;00m \u001b[43m_bootstrap\u001b[49m\u001b[38;5;241;43m.\u001b[39;49m\u001b[43m_gcd_import\u001b[49m\u001b[43m(\u001b[49m\u001b[43mname\u001b[49m\u001b[43m[\u001b[49m\u001b[43mlevel\u001b[49m\u001b[43m:\u001b[49m\u001b[43m]\u001b[49m\u001b[43m,\u001b[49m\u001b[43m \u001b[49m\u001b[43mpackage\u001b[49m\u001b[43m,\u001b[49m\u001b[43m \u001b[49m\u001b[43mlevel\u001b[49m\u001b[43m)\u001b[49m\n",
      "File \u001b[1;32md:\\AnaConda\\envs\\Cap\\lib\\site-packages\\huggingface_hub\\utils\\__init__.py:108\u001b[0m\n\u001b[0;32m     95\u001b[0m \u001b[38;5;28;01mfrom\u001b[39;00m \u001b[38;5;21;01m.\u001b[39;00m\u001b[38;5;21;01m_validators\u001b[39;00m \u001b[38;5;28;01mimport\u001b[39;00m (\n\u001b[0;32m     96\u001b[0m     HFValidationError,\n\u001b[0;32m     97\u001b[0m     smoothly_deprecate_use_auth_token,\n\u001b[0;32m     98\u001b[0m     validate_hf_hub_args,\n\u001b[0;32m     99\u001b[0m     validate_repo_id,\n\u001b[0;32m    100\u001b[0m )\n\u001b[0;32m    101\u001b[0m \u001b[38;5;28;01mfrom\u001b[39;00m \u001b[38;5;21;01m.\u001b[39;00m\u001b[38;5;21;01mtqdm\u001b[39;00m \u001b[38;5;28;01mimport\u001b[39;00m (\n\u001b[0;32m    102\u001b[0m     are_progress_bars_disabled,\n\u001b[0;32m    103\u001b[0m     disable_progress_bars,\n\u001b[1;32m   (...)\u001b[0m\n\u001b[0;32m    106\u001b[0m     tqdm_stream_file,\n\u001b[0;32m    107\u001b[0m )\n\u001b[1;32m--> 108\u001b[0m \u001b[38;5;28;01mfrom\u001b[39;00m \u001b[38;5;21;01m.\u001b[39;00m\u001b[38;5;21;01m_telemetry\u001b[39;00m \u001b[38;5;28;01mimport\u001b[39;00m send_telemetry\n",
      "File \u001b[1;32md:\\AnaConda\\envs\\Cap\\lib\\site-packages\\huggingface_hub\\utils\\_telemetry.py:6\u001b[0m\n\u001b[0;32m      3\u001b[0m \u001b[38;5;28;01mfrom\u001b[39;00m \u001b[38;5;21;01mtyping\u001b[39;00m \u001b[38;5;28;01mimport\u001b[39;00m Dict, Optional, Union\n\u001b[0;32m      4\u001b[0m \u001b[38;5;28;01mfrom\u001b[39;00m \u001b[38;5;21;01murllib\u001b[39;00m\u001b[38;5;21;01m.\u001b[39;00m\u001b[38;5;21;01mparse\u001b[39;00m \u001b[38;5;28;01mimport\u001b[39;00m quote\n\u001b[1;32m----> 6\u001b[0m \u001b[38;5;28;01mfrom\u001b[39;00m \u001b[38;5;21;01m.\u001b[39;00m\u001b[38;5;21;01m.\u001b[39;00m \u001b[38;5;28;01mimport\u001b[39;00m constants, logging\n\u001b[0;32m      7\u001b[0m \u001b[38;5;28;01mfrom\u001b[39;00m \u001b[38;5;21;01m.\u001b[39;00m \u001b[38;5;28;01mimport\u001b[39;00m build_hf_headers, get_session, hf_raise_for_status\n\u001b[0;32m     10\u001b[0m logger \u001b[38;5;241m=\u001b[39m logging\u001b[38;5;241m.\u001b[39mget_logger(\u001b[38;5;18m__name__\u001b[39m)\n",
      "\u001b[1;31mImportError\u001b[0m: cannot import name 'logging' from 'huggingface_hub' (d:\\AnaConda\\envs\\Cap\\lib\\site-packages\\huggingface_hub\\__init__.py)"
     ]
    }
   ],
   "source": [
    "from transformers import AutoImageProcessor, TFEfficientFormerModel"
   ]
  },
  {
   "cell_type": "code",
   "execution_count": 11,
   "metadata": {
    "executionInfo": {
     "elapsed": 18,
     "status": "ok",
     "timestamp": 1706806457568,
     "user": {
      "displayName": "Akshat Chauhan",
      "userId": "17341191293424364314"
     },
     "user_tz": -330
    },
    "id": "dOeDpUF_CFtl"
   },
   "outputs": [],
   "source": [
    "# prompt: make a sequential model using tensorflow import  required librairies first\n",
    "\n",
    "from tensorflow.keras.models import Sequential\n",
    "from tensorflow.keras.layers import Conv2D, MaxPooling2D, Flatten, Dense, Dropout\n"
   ]
  },
  {
   "cell_type": "code",
   "execution_count": 12,
   "metadata": {
    "colab": {
     "base_uri": "https://localhost:8080/",
     "height": 324,
     "referenced_widgets": [
      "26b8bec075e94d5898857fba888f5f9c",
      "7e9b45b875f04c2ba4eae4cf2e884eac",
      "6befc2a8304344488fdf06f8943de8d0",
      "58fbdb6a213443d7bc814dcfc9a9f4b1",
      "b09a7a9f9d3844e4bd4c972a2f50eca1",
      "0b2220468b11450ba958423ed961f32f",
      "860c834771cd4af2812b708eeae93456",
      "29d3f88693bd4174808b3418f67e153f",
      "b1df4b1779384e72a40cad29247ec17a",
      "896cdde3678a4ce9ace03d4748bc7f08",
      "26c6b192a14a418ca5133f1a217b13e8",
      "c507036352534e9a8cce110d4128ec08",
      "2904a329ad14409195e2c3dc9e8c3e38",
      "44493d2227d04e7283385839cf4a8061",
      "92aafb75acd74bd6b2fd83a7e44a4131",
      "0211ef783ed242d48551db92cf5f9252",
      "53a969d7f55447bd986574d45adfd437",
      "bf78bd6f1c884872af15a8f1e0536ba5",
      "7f5e907eb9e94917a790b68ec9f401b7",
      "93f995be3c164744bb326f31acfec6af",
      "f81dbe83acd2485cbc91f28a0888b6fe",
      "38594a0e5497447d8b2b9aefe2b325cf",
      "5ded9fbcfe9e4234b93ed28311ad7461",
      "5d2c6efb1a2042c586c142da131cb991",
      "8c560daba4c54e35a304d90c9fbba71a",
      "fa8cd0ba96e94709ae53d498fc431b62",
      "a3237b2fbf4c4c8796ee513db5f04361",
      "4b31495e35f045c7819cede20909a91f",
      "9769f3d138064df3b90bb7e18461e5b1",
      "5c04162b2781425dbc3ed1db7507f92e",
      "558f74b8151943bea65f72ce6d65c875",
      "8e160fe59e1641beae386f6247599394",
      "97cef6e1f7814382930cde6becfd2f78"
     ]
    },
    "executionInfo": {
     "elapsed": 5554,
     "status": "ok",
     "timestamp": 1706806463106,
     "user": {
      "displayName": "Akshat Chauhan",
      "userId": "17341191293424364314"
     },
     "user_tz": -330
    },
    "id": "cOgy6prWx7dO",
    "outputId": "5966e751-d038-493c-b01f-14068d989b94"
   },
   "outputs": [
    {
     "name": "stderr",
     "output_type": "stream",
     "text": [
      "Some layers from the model checkpoint at snap-research/efficientformer-l1-300 were not used when initializing TFEfficientFormerModel: ['distillation_classifier', 'classifier']\n",
      "- This IS expected if you are initializing TFEfficientFormerModel from the checkpoint of a model trained on another task or with another architecture (e.g. initializing a BertForSequenceClassification model from a BertForPreTraining model).\n",
      "- This IS NOT expected if you are initializing TFEfficientFormerModel from the checkpoint of a model that you expect to be exactly identical (initializing a BertForSequenceClassification model from a BertForSequenceClassification model).\n",
      "All the layers of TFEfficientFormerModel were initialized from the model checkpoint at snap-research/efficientformer-l1-300.\n",
      "If your task is similar to the task the model of the checkpoint was trained on, you can already use TFEfficientFormerModel for predictions without further training.\n"
     ]
    }
   ],
   "source": [
    "effmodel = TFEfficientFormerModel.from_pretrained(\"snap-research/efficientformer-l1-300\")"
   ]
  },
  {
   "cell_type": "code",
   "execution_count": 13,
   "metadata": {
    "executionInfo": {
     "elapsed": 542,
     "status": "ok",
     "timestamp": 1706806623054,
     "user": {
      "displayName": "Akshat Chauhan",
      "userId": "17341191293424364314"
     },
     "user_tz": -330
    },
    "id": "LXgvKJX-mYoe"
   },
   "outputs": [],
   "source": [
    "for layer in effmodel.layers:\n",
    "    layer.trainable = False\n"
   ]
  },
  {
   "cell_type": "code",
   "execution_count": 14,
   "metadata": {
    "executionInfo": {
     "elapsed": 3,
     "status": "ok",
     "timestamp": 1706806755098,
     "user": {
      "displayName": "Akshat Chauhan",
      "userId": "17341191293424364314"
     },
     "user_tz": -330
    },
    "id": "pZT95oD5NB11"
   },
   "outputs": [],
   "source": [
    "from tensorflow.keras.layers import GRU\n",
    "from tensorflow.keras.layers import Lambda\n",
    "from tensorflow.keras.layers import GlobalAveragePooling2D"
   ]
  },
  {
   "cell_type": "code",
   "execution_count": 15,
   "metadata": {
    "executionInfo": {
     "elapsed": 748,
     "status": "ok",
     "timestamp": 1706806757473,
     "user": {
      "displayName": "Akshat Chauhan",
      "userId": "17341191293424364314"
     },
     "user_tz": -330
    },
    "id": "YooE6N9MCc79"
   },
   "outputs": [],
   "source": [
    "model = Sequential()\n",
    "model.add(effmodel)\n",
    "model.add(Lambda(lambda x: x['last_hidden_state']))\n",
    "model.add(GRU(units=64, return_sequences=False))  # Add GRU layer here\n",
    "model.add(Dense(256, activation=\"gelu\"))\n",
    "model.add(Dropout(0.2))\n",
    "model.add(Dense(2, activation='sigmoid'))"
   ]
  },
  {
   "cell_type": "code",
   "execution_count": 16,
   "metadata": {
    "executionInfo": {
     "elapsed": 701,
     "status": "ok",
     "timestamp": 1706806761927,
     "user": {
      "displayName": "Akshat Chauhan",
      "userId": "17341191293424364314"
     },
     "user_tz": -330
    },
    "id": "xYm0hA1EC4WQ"
   },
   "outputs": [],
   "source": [
    "model.compile(loss=\"BinaryCrossentropy\",optimizer=\"adam\",metrics=[\"accuracy\"])"
   ]
  },
  {
   "cell_type": "code",
   "execution_count": 17,
   "metadata": {},
   "outputs": [
    {
     "data": {
      "text/plain": [
       "[PhysicalDevice(name='/physical_device:GPU:0', device_type='GPU')]"
      ]
     },
     "execution_count": 17,
     "metadata": {},
     "output_type": "execute_result"
    }
   ],
   "source": [
    "tf.config.list_physical_devices('GPU')"
   ]
  },
  {
   "cell_type": "code",
   "execution_count": 18,
   "metadata": {
    "colab": {
     "base_uri": "https://localhost:8080/"
    },
    "id": "e23_sxoODC_T",
    "outputId": "e3044828-fd9d-4056-969d-46c956aeadf5"
   },
   "outputs": [
    {
     "name": "stdout",
     "output_type": "stream",
     "text": [
      "Epoch 1/100\n",
      "536/536 [==============================] - 197s 356ms/step - loss: 0.6577 - accuracy: 0.5998 - val_loss: 0.6160 - val_accuracy: 0.6393\n",
      "Epoch 2/100\n",
      "536/536 [==============================] - 133s 248ms/step - loss: 0.5713 - accuracy: 0.6946 - val_loss: 0.5576 - val_accuracy: 0.6972\n",
      "Epoch 3/100\n",
      "536/536 [==============================] - 130s 242ms/step - loss: 0.5137 - accuracy: 0.7406 - val_loss: 0.5320 - val_accuracy: 0.7252\n",
      "Epoch 4/100\n",
      "536/536 [==============================] - 111s 208ms/step - loss: 0.4633 - accuracy: 0.7733 - val_loss: 0.4845 - val_accuracy: 0.7505\n",
      "Epoch 5/100\n",
      "536/536 [==============================] - 114s 212ms/step - loss: 0.4284 - accuracy: 0.7953 - val_loss: 0.4634 - val_accuracy: 0.7776\n",
      "Epoch 6/100\n",
      "536/536 [==============================] - 114s 212ms/step - loss: 0.4027 - accuracy: 0.8110 - val_loss: 0.4621 - val_accuracy: 0.7776\n",
      "Epoch 7/100\n",
      "536/536 [==============================] - 112s 208ms/step - loss: 0.3742 - accuracy: 0.8279 - val_loss: 0.4530 - val_accuracy: 0.7748\n",
      "Epoch 8/100\n",
      "536/536 [==============================] - 113s 210ms/step - loss: 0.3551 - accuracy: 0.8403 - val_loss: 0.4444 - val_accuracy: 0.7963\n",
      "Epoch 9/100\n",
      "536/536 [==============================] - 112s 208ms/step - loss: 0.3360 - accuracy: 0.8487 - val_loss: 0.4437 - val_accuracy: 0.8000\n",
      "Epoch 10/100\n",
      "536/536 [==============================] - 112s 209ms/step - loss: 0.3245 - accuracy: 0.8553 - val_loss: 0.4288 - val_accuracy: 0.8019\n",
      "Epoch 11/100\n",
      "536/536 [==============================] - 112s 210ms/step - loss: 0.3106 - accuracy: 0.8630 - val_loss: 0.3778 - val_accuracy: 0.8243\n",
      "Epoch 12/100\n",
      "536/536 [==============================] - 112s 209ms/step - loss: 0.2998 - accuracy: 0.8689 - val_loss: 0.4231 - val_accuracy: 0.7972\n",
      "Epoch 13/100\n",
      "536/536 [==============================] - 112s 209ms/step - loss: 0.2884 - accuracy: 0.8741 - val_loss: 0.4159 - val_accuracy: 0.8093\n",
      "Epoch 14/100\n",
      "536/536 [==============================] - 112s 208ms/step - loss: 0.2800 - accuracy: 0.8767 - val_loss: 0.3713 - val_accuracy: 0.8234\n",
      "Epoch 15/100\n",
      "536/536 [==============================] - 114s 212ms/step - loss: 0.2718 - accuracy: 0.8836 - val_loss: 0.3909 - val_accuracy: 0.8187\n",
      "Epoch 16/100\n",
      "536/536 [==============================] - 112s 209ms/step - loss: 0.2656 - accuracy: 0.8861 - val_loss: 0.3547 - val_accuracy: 0.8449\n",
      "Epoch 17/100\n",
      "536/536 [==============================] - 114s 212ms/step - loss: 0.2600 - accuracy: 0.8874 - val_loss: 0.3544 - val_accuracy: 0.8467\n",
      "Epoch 18/100\n",
      "536/536 [==============================] - 113s 211ms/step - loss: 0.2555 - accuracy: 0.8912 - val_loss: 0.3807 - val_accuracy: 0.8318\n",
      "Epoch 19/100\n",
      "536/536 [==============================] - 111s 208ms/step - loss: 0.2448 - accuracy: 0.8947 - val_loss: 0.4068 - val_accuracy: 0.8243\n",
      "Epoch 20/100\n",
      "536/536 [==============================] - 113s 210ms/step - loss: 0.2371 - accuracy: 0.8985 - val_loss: 0.3923 - val_accuracy: 0.8393\n",
      "Epoch 21/100\n",
      "536/536 [==============================] - 112s 209ms/step - loss: 0.2450 - accuracy: 0.8975 - val_loss: 0.3808 - val_accuracy: 0.8346\n",
      "Epoch 22/100\n",
      "536/536 [==============================] - 112s 209ms/step - loss: 0.2347 - accuracy: 0.9019 - val_loss: 0.4047 - val_accuracy: 0.8318\n",
      "Epoch 23/100\n",
      "536/536 [==============================] - 112s 210ms/step - loss: 0.2364 - accuracy: 0.9043 - val_loss: 0.3562 - val_accuracy: 0.8505\n",
      "Epoch 24/100\n",
      "536/536 [==============================] - 113s 210ms/step - loss: 0.2271 - accuracy: 0.9050 - val_loss: 0.3582 - val_accuracy: 0.8402\n",
      "Epoch 25/100\n",
      "536/536 [==============================] - 111s 208ms/step - loss: 0.2230 - accuracy: 0.9061 - val_loss: 0.3676 - val_accuracy: 0.8430\n",
      "Epoch 26/100\n",
      "536/536 [==============================] - 113s 211ms/step - loss: 0.2221 - accuracy: 0.9067 - val_loss: 0.3653 - val_accuracy: 0.8393\n",
      "Epoch 27/100\n",
      "536/536 [==============================] - 117s 219ms/step - loss: 0.2121 - accuracy: 0.9103 - val_loss: 0.3808 - val_accuracy: 0.8355\n",
      "Epoch 28/100\n",
      "536/536 [==============================] - 116s 216ms/step - loss: 0.2161 - accuracy: 0.9080 - val_loss: 0.3405 - val_accuracy: 0.8411\n",
      "Epoch 29/100\n",
      "536/536 [==============================] - 115s 214ms/step - loss: 0.2145 - accuracy: 0.9095 - val_loss: 0.3956 - val_accuracy: 0.8393\n",
      "Epoch 30/100\n",
      "536/536 [==============================] - 115s 215ms/step - loss: 0.2135 - accuracy: 0.9109 - val_loss: 0.3465 - val_accuracy: 0.8486\n",
      "Epoch 31/100\n",
      "536/536 [==============================] - 115s 215ms/step - loss: 0.2020 - accuracy: 0.9166 - val_loss: 0.3755 - val_accuracy: 0.8467\n",
      "Epoch 32/100\n",
      "536/536 [==============================] - 115s 215ms/step - loss: 0.2079 - accuracy: 0.9128 - val_loss: 0.3978 - val_accuracy: 0.8299\n",
      "Epoch 33/100\n",
      "536/536 [==============================] - 115s 215ms/step - loss: 0.2010 - accuracy: 0.9186 - val_loss: 0.3719 - val_accuracy: 0.8486\n",
      "Epoch 34/100\n",
      "536/536 [==============================] - 117s 218ms/step - loss: 0.2074 - accuracy: 0.9123 - val_loss: 0.3929 - val_accuracy: 0.8542\n",
      "Epoch 35/100\n",
      "536/536 [==============================] - 115s 214ms/step - loss: 0.1995 - accuracy: 0.9194 - val_loss: 0.3724 - val_accuracy: 0.8514\n",
      "Epoch 36/100\n",
      "536/536 [==============================] - 115s 215ms/step - loss: 0.1960 - accuracy: 0.9185 - val_loss: 0.4209 - val_accuracy: 0.8383\n",
      "Epoch 37/100\n",
      "536/536 [==============================] - 112s 209ms/step - loss: 0.1993 - accuracy: 0.9162 - val_loss: 0.3690 - val_accuracy: 0.8486\n",
      "Epoch 38/100\n",
      "536/536 [==============================] - 112s 209ms/step - loss: 0.2002 - accuracy: 0.9186 - val_loss: 0.3821 - val_accuracy: 0.8561\n",
      "Epoch 39/100\n",
      "536/536 [==============================] - 112s 209ms/step - loss: 0.1923 - accuracy: 0.9225 - val_loss: 0.3387 - val_accuracy: 0.8430\n",
      "Epoch 40/100\n",
      "536/536 [==============================] - 111s 208ms/step - loss: 0.1862 - accuracy: 0.9221 - val_loss: 0.3788 - val_accuracy: 0.8486\n",
      "Epoch 41/100\n",
      "536/536 [==============================] - 112s 209ms/step - loss: 0.1937 - accuracy: 0.9181 - val_loss: 0.3654 - val_accuracy: 0.8477\n",
      "Epoch 42/100\n",
      "536/536 [==============================] - 111s 208ms/step - loss: 0.1895 - accuracy: 0.9240 - val_loss: 0.3777 - val_accuracy: 0.8505\n",
      "Epoch 43/100\n",
      "536/536 [==============================] - 112s 209ms/step - loss: 0.1887 - accuracy: 0.9247 - val_loss: 0.3430 - val_accuracy: 0.8692\n",
      "Epoch 44/100\n",
      "536/536 [==============================] - 113s 211ms/step - loss: 0.1856 - accuracy: 0.9236 - val_loss: 0.3643 - val_accuracy: 0.8364\n",
      "Epoch 45/100\n",
      "536/536 [==============================] - 112s 208ms/step - loss: 0.1820 - accuracy: 0.9254 - val_loss: 0.3798 - val_accuracy: 0.8486\n",
      "Epoch 46/100\n",
      "536/536 [==============================] - 111s 208ms/step - loss: 0.1792 - accuracy: 0.9283 - val_loss: 0.3876 - val_accuracy: 0.8393\n",
      "Epoch 47/100\n",
      "536/536 [==============================] - 113s 210ms/step - loss: 0.1770 - accuracy: 0.9273 - val_loss: 0.4131 - val_accuracy: 0.8439\n",
      "Epoch 48/100\n",
      "536/536 [==============================] - 112s 210ms/step - loss: 0.1747 - accuracy: 0.9287 - val_loss: 0.3423 - val_accuracy: 0.8514\n",
      "Epoch 49/100\n",
      "536/536 [==============================] - 112s 209ms/step - loss: 0.1728 - accuracy: 0.9307 - val_loss: 0.3867 - val_accuracy: 0.8467\n",
      "Epoch 50/100\n",
      "536/536 [==============================] - 112s 210ms/step - loss: 0.1749 - accuracy: 0.9294 - val_loss: 0.3297 - val_accuracy: 0.8682\n",
      "Epoch 51/100\n",
      "536/536 [==============================] - 112s 209ms/step - loss: 0.1806 - accuracy: 0.9252 - val_loss: 0.3668 - val_accuracy: 0.8411\n",
      "Epoch 52/100\n",
      "536/536 [==============================] - 113s 211ms/step - loss: 0.1784 - accuracy: 0.9280 - val_loss: 0.3562 - val_accuracy: 0.8636\n",
      "Epoch 53/100\n",
      "536/536 [==============================] - 113s 211ms/step - loss: 0.1717 - accuracy: 0.9299 - val_loss: 0.3376 - val_accuracy: 0.8636\n",
      "Epoch 54/100\n",
      "536/536 [==============================] - 115s 214ms/step - loss: 0.1818 - accuracy: 0.9268 - val_loss: 0.3447 - val_accuracy: 0.8505\n",
      "Epoch 55/100\n",
      "536/536 [==============================] - 116s 216ms/step - loss: 0.1732 - accuracy: 0.9296 - val_loss: 0.3630 - val_accuracy: 0.8542\n",
      "Epoch 56/100\n",
      "536/536 [==============================] - 115s 214ms/step - loss: 0.1722 - accuracy: 0.9292 - val_loss: 0.3514 - val_accuracy: 0.8636\n",
      "Epoch 57/100\n",
      "536/536 [==============================] - 116s 216ms/step - loss: 0.1711 - accuracy: 0.9303 - val_loss: 0.3767 - val_accuracy: 0.8505\n",
      "Epoch 58/100\n",
      "536/536 [==============================] - 118s 220ms/step - loss: 0.1729 - accuracy: 0.9291 - val_loss: 0.4127 - val_accuracy: 0.8486\n",
      "Epoch 59/100\n",
      "536/536 [==============================] - 134s 250ms/step - loss: 0.1687 - accuracy: 0.9299 - val_loss: 0.3728 - val_accuracy: 0.8458\n",
      "Epoch 60/100\n",
      "536/536 [==============================] - 116s 216ms/step - loss: 0.1677 - accuracy: 0.9313 - val_loss: 0.3819 - val_accuracy: 0.8561\n",
      "Epoch 61/100\n",
      "536/536 [==============================] - 116s 216ms/step - loss: 0.1661 - accuracy: 0.9313 - val_loss: 0.3843 - val_accuracy: 0.8505\n",
      "Epoch 62/100\n",
      "536/536 [==============================] - 115s 214ms/step - loss: 0.1704 - accuracy: 0.9312 - val_loss: 0.3659 - val_accuracy: 0.8542\n",
      "Epoch 63/100\n",
      "536/536 [==============================] - 115s 215ms/step - loss: 0.1659 - accuracy: 0.9312 - val_loss: 0.3782 - val_accuracy: 0.8486\n",
      "Epoch 64/100\n",
      "536/536 [==============================] - 115s 214ms/step - loss: 0.1714 - accuracy: 0.9294 - val_loss: 0.3581 - val_accuracy: 0.8654\n",
      "Epoch 65/100\n",
      "536/536 [==============================] - 116s 217ms/step - loss: 0.1596 - accuracy: 0.9365 - val_loss: 0.3535 - val_accuracy: 0.8654\n",
      "Epoch 66/100\n",
      "536/536 [==============================] - 115s 214ms/step - loss: 0.1657 - accuracy: 0.9328 - val_loss: 0.3591 - val_accuracy: 0.8486\n",
      "Epoch 67/100\n",
      "536/536 [==============================] - 115s 215ms/step - loss: 0.1622 - accuracy: 0.9352 - val_loss: 0.3740 - val_accuracy: 0.8477\n",
      "Epoch 68/100\n",
      "536/536 [==============================] - 113s 211ms/step - loss: 0.1654 - accuracy: 0.9344 - val_loss: 0.3546 - val_accuracy: 0.8617\n",
      "Epoch 69/100\n",
      "536/536 [==============================] - 111s 206ms/step - loss: 0.1606 - accuracy: 0.9356 - val_loss: 0.3516 - val_accuracy: 0.8505\n",
      "Epoch 70/100\n",
      "536/536 [==============================] - 110s 205ms/step - loss: 0.1639 - accuracy: 0.9344 - val_loss: 0.3293 - val_accuracy: 0.8785\n",
      "Epoch 71/100\n",
      "536/536 [==============================] - 112s 208ms/step - loss: 0.1546 - accuracy: 0.9372 - val_loss: 0.3535 - val_accuracy: 0.8617\n",
      "Epoch 72/100\n",
      "536/536 [==============================] - 110s 206ms/step - loss: 0.1568 - accuracy: 0.9371 - val_loss: 0.3676 - val_accuracy: 0.8589\n",
      "Epoch 73/100\n",
      "536/536 [==============================] - 112s 209ms/step - loss: 0.1624 - accuracy: 0.9369 - val_loss: 0.3367 - val_accuracy: 0.8794\n",
      "Epoch 74/100\n",
      "536/536 [==============================] - 110s 206ms/step - loss: 0.1602 - accuracy: 0.9350 - val_loss: 0.3586 - val_accuracy: 0.8757\n",
      "Epoch 75/100\n",
      "536/536 [==============================] - 111s 207ms/step - loss: 0.1596 - accuracy: 0.9340 - val_loss: 0.3462 - val_accuracy: 0.8570\n",
      "Epoch 76/100\n",
      "536/536 [==============================] - 110s 206ms/step - loss: 0.1602 - accuracy: 0.9348 - val_loss: 0.3145 - val_accuracy: 0.8720\n",
      "Epoch 77/100\n",
      "536/536 [==============================] - 111s 206ms/step - loss: 0.1589 - accuracy: 0.9370 - val_loss: 0.3564 - val_accuracy: 0.8654\n",
      "Epoch 78/100\n",
      "536/536 [==============================] - 111s 208ms/step - loss: 0.1508 - accuracy: 0.9409 - val_loss: 0.3596 - val_accuracy: 0.8636\n",
      "Epoch 79/100\n",
      "536/536 [==============================] - 111s 207ms/step - loss: 0.1585 - accuracy: 0.9373 - val_loss: 0.3357 - val_accuracy: 0.8701\n",
      "Epoch 80/100\n",
      "536/536 [==============================] - 111s 208ms/step - loss: 0.1579 - accuracy: 0.9374 - val_loss: 0.3460 - val_accuracy: 0.8720\n",
      "Epoch 81/100\n",
      "536/536 [==============================] - 111s 206ms/step - loss: 0.1576 - accuracy: 0.9371 - val_loss: 0.3329 - val_accuracy: 0.8598\n",
      "Epoch 82/100\n",
      "536/536 [==============================] - 110s 205ms/step - loss: 0.1520 - accuracy: 0.9400 - val_loss: 0.3415 - val_accuracy: 0.8664\n",
      "Epoch 83/100\n",
      "536/536 [==============================] - 111s 207ms/step - loss: 0.1574 - accuracy: 0.9357 - val_loss: 0.3844 - val_accuracy: 0.8542\n",
      "Epoch 84/100\n",
      "536/536 [==============================] - 110s 206ms/step - loss: 0.1540 - accuracy: 0.9397 - val_loss: 0.3752 - val_accuracy: 0.8523\n",
      "Epoch 85/100\n",
      "536/536 [==============================] - 111s 207ms/step - loss: 0.1522 - accuracy: 0.9389 - val_loss: 0.4098 - val_accuracy: 0.8477\n",
      "Epoch 86/100\n",
      "536/536 [==============================] - 110s 206ms/step - loss: 0.1585 - accuracy: 0.9353 - val_loss: 0.3768 - val_accuracy: 0.8701\n",
      "Epoch 87/100\n",
      "536/536 [==============================] - 112s 208ms/step - loss: 0.1483 - accuracy: 0.9423 - val_loss: 0.3258 - val_accuracy: 0.8785\n",
      "Epoch 88/100\n",
      "536/536 [==============================] - 111s 207ms/step - loss: 0.1496 - accuracy: 0.9417 - val_loss: 0.3693 - val_accuracy: 0.8636\n",
      "Epoch 89/100\n",
      "536/536 [==============================] - 111s 207ms/step - loss: 0.1553 - accuracy: 0.9383 - val_loss: 0.3619 - val_accuracy: 0.8505\n",
      "Epoch 90/100\n",
      "536/536 [==============================] - 112s 208ms/step - loss: 0.1552 - accuracy: 0.9379 - val_loss: 0.3521 - val_accuracy: 0.8748\n",
      "Epoch 91/100\n",
      "536/536 [==============================] - 111s 208ms/step - loss: 0.1569 - accuracy: 0.9372 - val_loss: 0.3364 - val_accuracy: 0.8654\n",
      "Epoch 92/100\n",
      "536/536 [==============================] - 111s 206ms/step - loss: 0.1577 - accuracy: 0.9364 - val_loss: 0.3112 - val_accuracy: 0.8720\n",
      "Epoch 93/100\n",
      "536/536 [==============================] - 111s 208ms/step - loss: 0.1517 - accuracy: 0.9400 - val_loss: 0.4131 - val_accuracy: 0.8542\n",
      "Epoch 94/100\n",
      "536/536 [==============================] - 110s 205ms/step - loss: 0.1483 - accuracy: 0.9394 - val_loss: 0.3456 - val_accuracy: 0.8766\n",
      "Epoch 95/100\n",
      "536/536 [==============================] - 111s 207ms/step - loss: 0.1510 - accuracy: 0.9410 - val_loss: 0.3457 - val_accuracy: 0.8607\n",
      "Epoch 96/100\n",
      "536/536 [==============================] - 110s 205ms/step - loss: 0.1483 - accuracy: 0.9419 - val_loss: 0.3576 - val_accuracy: 0.8551\n",
      "Epoch 97/100\n",
      "536/536 [==============================] - 111s 207ms/step - loss: 0.1607 - accuracy: 0.9354 - val_loss: 0.3245 - val_accuracy: 0.8692\n",
      "Epoch 98/100\n",
      "536/536 [==============================] - 112s 208ms/step - loss: 0.1457 - accuracy: 0.9397 - val_loss: 0.3335 - val_accuracy: 0.8645\n",
      "Epoch 99/100\n",
      "536/536 [==============================] - 111s 207ms/step - loss: 0.1516 - accuracy: 0.9390 - val_loss: 0.3345 - val_accuracy: 0.8664\n",
      "Epoch 100/100\n",
      "536/536 [==============================] - 111s 206ms/step - loss: 0.1493 - accuracy: 0.9401 - val_loss: 0.3470 - val_accuracy: 0.8710\n"
     ]
    }
   ],
   "source": [
    "history=model.fit(train_generator, epochs=epochs, validation_data=val_generator)"
   ]
  },
  {
   "cell_type": "code",
   "execution_count": 19,
   "metadata": {
    "id": "Y8F6gQuTIl-D"
   },
   "outputs": [
    {
     "name": "stdout",
     "output_type": "stream",
     "text": [
      "Model: \"sequential\"\n",
      "_________________________________________________________________\n",
      " Layer (type)                Output Shape              Param #   \n",
      "=================================================================\n",
      " tf_efficient_former_model (  TFBaseModelOutput(last_h  11426249 \n",
      " TFEfficientFormerModel)     idden_state=(None, None,            \n",
      "                              448),                              \n",
      "                              hidden_states=None, att            \n",
      "                             entions=None)                       \n",
      "                                                                 \n",
      " lambda (Lambda)             (None, None, 448)         0         \n",
      "                                                                 \n",
      " gru (GRU)                   (None, 64)                98688     \n",
      "                                                                 \n",
      " dense (Dense)               (None, 256)               16640     \n",
      "                                                                 \n",
      " dropout_15 (Dropout)        (None, 256)               0         \n",
      "                                                                 \n",
      " dense_1 (Dense)             (None, 2)                 514       \n",
      "                                                                 \n",
      "=================================================================\n",
      "Total params: 11,542,091\n",
      "Trainable params: 115,842\n",
      "Non-trainable params: 11,426,249\n",
      "_________________________________________________________________\n"
     ]
    }
   ],
   "source": [
    "model.summary()"
   ]
  },
  {
   "cell_type": "code",
   "execution_count": 20,
   "metadata": {},
   "outputs": [],
   "source": [
    "def plot(history, name):\n",
    "    plt.plot(history.history['accuracy'])\n",
    "    plt.plot(history.history['val_accuracy'])\n",
    "    plt.xlabel(\"Epochs\")\n",
    "    plt.ylabel('Accuracy')\n",
    "    plt.legend(['train', 'val'], loc = \"lower right\")\n",
    "    plt.title(name + \" Training and Validation Accuracy Results\")\n",
    "    plt.show()\n",
    "\n",
    "    plt.plot(history.history['loss'])\n",
    "    plt.plot(history.history['val_loss'])\n",
    "    plt.xlabel(\"Epochs\")\n",
    "    plt.ylabel('Loss')\n",
    "    plt.legend(['train', 'val'], loc = \"lower right\")\n",
    "    plt.title(name + \" Training and Validation Loss Results\")\n",
    "    plt.show()"
   ]
  },
  {
   "cell_type": "code",
   "execution_count": 21,
   "metadata": {},
   "outputs": [
    {
     "data": {
      "image/png": "[encoded data removed]",
      "text/plain": [
       "<Figure size 640x480 with 1 Axes>"
      ]
     },
     "metadata": {},
     "output_type": "display_data"
    },
    {
     "data": {
      "image/png": "[encoded data removed]",
      "text/plain": [
       "<Figure size 640x480 with 1 Axes>"
      ]
     },
     "metadata": {},
     "output_type": "display_data"
    }
   ],
   "source": [
    "plot(history, \"Model\")"
   ]
  },
  {
   "cell_type": "code",
   "execution_count": 25,
   "metadata": {},
   "outputs": [],
   "source": [
    "model.save(\"first.h5\")"
   ]
  },
  {
   "cell_type": "code",
   "execution_count": 22,
   "metadata": {},
   "outputs": [],
   "source": [
    "model1 = Sequential()\n",
    "model1.add(effmodel)\n",
    "model1.add(Lambda(lambda x: x['last_hidden_state']))\n",
    "model1.add(GRU(units=64, return_sequences=False))  # Add GRU layer here\n",
    "model1.add(Dense(32, activation=\"relu\"))\n",
    "model1.add(Dropout(0.2))\n",
    "model1.add(Dense(2, activation='sigmoid'))"
   ]
  },
  {
   "cell_type": "code",
   "execution_count": null,
   "metadata": {},
   "outputs": [],
   "source": []
  },
  {
   "cell_type": "code",
   "execution_count": 23,
   "metadata": {},
   "outputs": [],
   "source": [
    "model1.compile(loss=\"BinaryCrossentropy\", optimizer='adam', metrics=['accuracy'])\n"
   ]
  },
  {
   "cell_type": "code",
   "execution_count": 24,
   "metadata": {},
   "outputs": [
    {
     "name": "stdout",
     "output_type": "stream",
     "text": [
      "Epoch 1/100\n",
      "536/536 [==============================] - 23043s 216ms/step - loss: 0.6721 - accuracy: 0.5781 - val_loss: 0.6397 - val_accuracy: 0.6318\n",
      "Epoch 2/100\n",
      "234/536 [============>.................] - ETA: 56s - loss: 0.6223 - accuracy: 0.6549"
     ]
    },
    {
     "ename": "KeyboardInterrupt",
     "evalue": "",
     "output_type": "error",
     "traceback": [
      "\u001b[1;31m---------------------------------------------------------------------------\u001b[0m",
      "\u001b[1;31mKeyboardInterrupt\u001b[0m                         Traceback (most recent call last)",
      "Cell \u001b[1;32mIn[24], line 1\u001b[0m\n\u001b[1;32m----> 1\u001b[0m history1\u001b[38;5;241m=\u001b[39m\u001b[43mmodel1\u001b[49m\u001b[38;5;241;43m.\u001b[39;49m\u001b[43mfit\u001b[49m\u001b[43m(\u001b[49m\u001b[43mtrain_generator\u001b[49m\u001b[43m,\u001b[49m\u001b[43m \u001b[49m\u001b[43mepochs\u001b[49m\u001b[38;5;241;43m=\u001b[39;49m\u001b[38;5;241;43m100\u001b[39;49m\u001b[43m,\u001b[49m\u001b[43m \u001b[49m\u001b[43mvalidation_data\u001b[49m\u001b[38;5;241;43m=\u001b[39;49m\u001b[43mval_generator\u001b[49m\u001b[43m)\u001b[49m\n",
      "File \u001b[1;32md:\\AnaConda\\envs\\Cap\\lib\\site-packages\\keras\\utils\\traceback_utils.py:65\u001b[0m, in \u001b[0;36mfilter_traceback.<locals>.error_handler\u001b[1;34m(*args, **kwargs)\u001b[0m\n\u001b[0;32m     63\u001b[0m filtered_tb \u001b[38;5;241m=\u001b[39m \u001b[38;5;28;01mNone\u001b[39;00m\n\u001b[0;32m     64\u001b[0m \u001b[38;5;28;01mtry\u001b[39;00m:\n\u001b[1;32m---> 65\u001b[0m     \u001b[38;5;28;01mreturn\u001b[39;00m fn(\u001b[38;5;241m*\u001b[39margs, \u001b[38;5;241m*\u001b[39m\u001b[38;5;241m*\u001b[39mkwargs)\n\u001b[0;32m     66\u001b[0m \u001b[38;5;28;01mexcept\u001b[39;00m \u001b[38;5;167;01mException\u001b[39;00m \u001b[38;5;28;01mas\u001b[39;00m e:\n\u001b[0;32m     67\u001b[0m     filtered_tb \u001b[38;5;241m=\u001b[39m _process_traceback_frames(e\u001b[38;5;241m.\u001b[39m__traceback__)\n",
      "File \u001b[1;32md:\\AnaConda\\envs\\Cap\\lib\\site-packages\\keras\\engine\\training.py:1564\u001b[0m, in \u001b[0;36mModel.fit\u001b[1;34m(self, x, y, batch_size, epochs, verbose, callbacks, validation_split, validation_data, shuffle, class_weight, sample_weight, initial_epoch, steps_per_epoch, validation_steps, validation_batch_size, validation_freq, max_queue_size, workers, use_multiprocessing)\u001b[0m\n\u001b[0;32m   1556\u001b[0m \u001b[38;5;28;01mwith\u001b[39;00m tf\u001b[38;5;241m.\u001b[39mprofiler\u001b[38;5;241m.\u001b[39mexperimental\u001b[38;5;241m.\u001b[39mTrace(\n\u001b[0;32m   1557\u001b[0m     \u001b[38;5;124m\"\u001b[39m\u001b[38;5;124mtrain\u001b[39m\u001b[38;5;124m\"\u001b[39m,\n\u001b[0;32m   1558\u001b[0m     epoch_num\u001b[38;5;241m=\u001b[39mepoch,\n\u001b[1;32m   (...)\u001b[0m\n\u001b[0;32m   1561\u001b[0m     _r\u001b[38;5;241m=\u001b[39m\u001b[38;5;241m1\u001b[39m,\n\u001b[0;32m   1562\u001b[0m ):\n\u001b[0;32m   1563\u001b[0m     callbacks\u001b[38;5;241m.\u001b[39mon_train_batch_begin(step)\n\u001b[1;32m-> 1564\u001b[0m     tmp_logs \u001b[38;5;241m=\u001b[39m \u001b[38;5;28;43mself\u001b[39;49m\u001b[38;5;241;43m.\u001b[39;49m\u001b[43mtrain_function\u001b[49m\u001b[43m(\u001b[49m\u001b[43miterator\u001b[49m\u001b[43m)\u001b[49m\n\u001b[0;32m   1565\u001b[0m     \u001b[38;5;28;01mif\u001b[39;00m data_handler\u001b[38;5;241m.\u001b[39mshould_sync:\n\u001b[0;32m   1566\u001b[0m         context\u001b[38;5;241m.\u001b[39masync_wait()\n",
      "File \u001b[1;32md:\\AnaConda\\envs\\Cap\\lib\\site-packages\\tensorflow\\python\\util\\traceback_utils.py:150\u001b[0m, in \u001b[0;36mfilter_traceback.<locals>.error_handler\u001b[1;34m(*args, **kwargs)\u001b[0m\n\u001b[0;32m    148\u001b[0m filtered_tb \u001b[38;5;241m=\u001b[39m \u001b[38;5;28;01mNone\u001b[39;00m\n\u001b[0;32m    149\u001b[0m \u001b[38;5;28;01mtry\u001b[39;00m:\n\u001b[1;32m--> 150\u001b[0m   \u001b[38;5;28;01mreturn\u001b[39;00m fn(\u001b[38;5;241m*\u001b[39margs, \u001b[38;5;241m*\u001b[39m\u001b[38;5;241m*\u001b[39mkwargs)\n\u001b[0;32m    151\u001b[0m \u001b[38;5;28;01mexcept\u001b[39;00m \u001b[38;5;167;01mException\u001b[39;00m \u001b[38;5;28;01mas\u001b[39;00m e:\n\u001b[0;32m    152\u001b[0m   filtered_tb \u001b[38;5;241m=\u001b[39m _process_traceback_frames(e\u001b[38;5;241m.\u001b[39m__traceback__)\n",
      "File \u001b[1;32md:\\AnaConda\\envs\\Cap\\lib\\site-packages\\tensorflow\\python\\eager\\def_function.py:915\u001b[0m, in \u001b[0;36mFunction.__call__\u001b[1;34m(self, *args, **kwds)\u001b[0m\n\u001b[0;32m    912\u001b[0m compiler \u001b[38;5;241m=\u001b[39m \u001b[38;5;124m\"\u001b[39m\u001b[38;5;124mxla\u001b[39m\u001b[38;5;124m\"\u001b[39m \u001b[38;5;28;01mif\u001b[39;00m \u001b[38;5;28mself\u001b[39m\u001b[38;5;241m.\u001b[39m_jit_compile \u001b[38;5;28;01melse\u001b[39;00m \u001b[38;5;124m\"\u001b[39m\u001b[38;5;124mnonXla\u001b[39m\u001b[38;5;124m\"\u001b[39m\n\u001b[0;32m    914\u001b[0m \u001b[38;5;28;01mwith\u001b[39;00m OptionalXlaContext(\u001b[38;5;28mself\u001b[39m\u001b[38;5;241m.\u001b[39m_jit_compile):\n\u001b[1;32m--> 915\u001b[0m   result \u001b[38;5;241m=\u001b[39m \u001b[38;5;28mself\u001b[39m\u001b[38;5;241m.\u001b[39m_call(\u001b[38;5;241m*\u001b[39margs, \u001b[38;5;241m*\u001b[39m\u001b[38;5;241m*\u001b[39mkwds)\n\u001b[0;32m    917\u001b[0m new_tracing_count \u001b[38;5;241m=\u001b[39m \u001b[38;5;28mself\u001b[39m\u001b[38;5;241m.\u001b[39mexperimental_get_tracing_count()\n\u001b[0;32m    918\u001b[0m without_tracing \u001b[38;5;241m=\u001b[39m (tracing_count \u001b[38;5;241m==\u001b[39m new_tracing_count)\n",
      "File \u001b[1;32md:\\AnaConda\\envs\\Cap\\lib\\site-packages\\tensorflow\\python\\eager\\def_function.py:947\u001b[0m, in \u001b[0;36mFunction._call\u001b[1;34m(self, *args, **kwds)\u001b[0m\n\u001b[0;32m    944\u001b[0m   \u001b[38;5;28mself\u001b[39m\u001b[38;5;241m.\u001b[39m_lock\u001b[38;5;241m.\u001b[39mrelease()\n\u001b[0;32m    945\u001b[0m   \u001b[38;5;66;03m# In this case we have created variables on the first call, so we run the\u001b[39;00m\n\u001b[0;32m    946\u001b[0m   \u001b[38;5;66;03m# defunned version which is guaranteed to never create variables.\u001b[39;00m\n\u001b[1;32m--> 947\u001b[0m   \u001b[38;5;28;01mreturn\u001b[39;00m \u001b[38;5;28mself\u001b[39m\u001b[38;5;241m.\u001b[39m_stateless_fn(\u001b[38;5;241m*\u001b[39margs, \u001b[38;5;241m*\u001b[39m\u001b[38;5;241m*\u001b[39mkwds)  \u001b[38;5;66;03m# pylint: disable=not-callable\u001b[39;00m\n\u001b[0;32m    948\u001b[0m \u001b[38;5;28;01melif\u001b[39;00m \u001b[38;5;28mself\u001b[39m\u001b[38;5;241m.\u001b[39m_stateful_fn \u001b[38;5;129;01mis\u001b[39;00m \u001b[38;5;129;01mnot\u001b[39;00m \u001b[38;5;28;01mNone\u001b[39;00m:\n\u001b[0;32m    949\u001b[0m   \u001b[38;5;66;03m# Release the lock early so that multiple threads can perform the call\u001b[39;00m\n\u001b[0;32m    950\u001b[0m   \u001b[38;5;66;03m# in parallel.\u001b[39;00m\n\u001b[0;32m    951\u001b[0m   \u001b[38;5;28mself\u001b[39m\u001b[38;5;241m.\u001b[39m_lock\u001b[38;5;241m.\u001b[39mrelease()\n",
      "File \u001b[1;32md:\\AnaConda\\envs\\Cap\\lib\\site-packages\\tensorflow\\python\\eager\\function.py:2496\u001b[0m, in \u001b[0;36mFunction.__call__\u001b[1;34m(self, *args, **kwargs)\u001b[0m\n\u001b[0;32m   2493\u001b[0m \u001b[38;5;28;01mwith\u001b[39;00m \u001b[38;5;28mself\u001b[39m\u001b[38;5;241m.\u001b[39m_lock:\n\u001b[0;32m   2494\u001b[0m   (graph_function,\n\u001b[0;32m   2495\u001b[0m    filtered_flat_args) \u001b[38;5;241m=\u001b[39m \u001b[38;5;28mself\u001b[39m\u001b[38;5;241m.\u001b[39m_maybe_define_function(args, kwargs)\n\u001b[1;32m-> 2496\u001b[0m \u001b[38;5;28;01mreturn\u001b[39;00m \u001b[43mgraph_function\u001b[49m\u001b[38;5;241;43m.\u001b[39;49m\u001b[43m_call_flat\u001b[49m\u001b[43m(\u001b[49m\n\u001b[0;32m   2497\u001b[0m \u001b[43m    \u001b[49m\u001b[43mfiltered_flat_args\u001b[49m\u001b[43m,\u001b[49m\u001b[43m \u001b[49m\u001b[43mcaptured_inputs\u001b[49m\u001b[38;5;241;43m=\u001b[39;49m\u001b[43mgraph_function\u001b[49m\u001b[38;5;241;43m.\u001b[39;49m\u001b[43mcaptured_inputs\u001b[49m\u001b[43m)\u001b[49m\n",
      "File \u001b[1;32md:\\AnaConda\\envs\\Cap\\lib\\site-packages\\tensorflow\\python\\eager\\function.py:1862\u001b[0m, in \u001b[0;36mConcreteFunction._call_flat\u001b[1;34m(self, args, captured_inputs, cancellation_manager)\u001b[0m\n\u001b[0;32m   1858\u001b[0m possible_gradient_type \u001b[38;5;241m=\u001b[39m gradients_util\u001b[38;5;241m.\u001b[39mPossibleTapeGradientTypes(args)\n\u001b[0;32m   1859\u001b[0m \u001b[38;5;28;01mif\u001b[39;00m (possible_gradient_type \u001b[38;5;241m==\u001b[39m gradients_util\u001b[38;5;241m.\u001b[39mPOSSIBLE_GRADIENT_TYPES_NONE\n\u001b[0;32m   1860\u001b[0m     \u001b[38;5;129;01mand\u001b[39;00m executing_eagerly):\n\u001b[0;32m   1861\u001b[0m   \u001b[38;5;66;03m# No tape is watching; skip to running the function.\u001b[39;00m\n\u001b[1;32m-> 1862\u001b[0m   \u001b[38;5;28;01mreturn\u001b[39;00m \u001b[38;5;28mself\u001b[39m\u001b[38;5;241m.\u001b[39m_build_call_outputs(\u001b[38;5;28;43mself\u001b[39;49m\u001b[38;5;241;43m.\u001b[39;49m\u001b[43m_inference_function\u001b[49m\u001b[38;5;241;43m.\u001b[39;49m\u001b[43mcall\u001b[49m\u001b[43m(\u001b[49m\n\u001b[0;32m   1863\u001b[0m \u001b[43m      \u001b[49m\u001b[43mctx\u001b[49m\u001b[43m,\u001b[49m\u001b[43m \u001b[49m\u001b[43margs\u001b[49m\u001b[43m,\u001b[49m\u001b[43m \u001b[49m\u001b[43mcancellation_manager\u001b[49m\u001b[38;5;241;43m=\u001b[39;49m\u001b[43mcancellation_manager\u001b[49m\u001b[43m)\u001b[49m)\n\u001b[0;32m   1864\u001b[0m forward_backward \u001b[38;5;241m=\u001b[39m \u001b[38;5;28mself\u001b[39m\u001b[38;5;241m.\u001b[39m_select_forward_and_backward_functions(\n\u001b[0;32m   1865\u001b[0m     args,\n\u001b[0;32m   1866\u001b[0m     possible_gradient_type,\n\u001b[0;32m   1867\u001b[0m     executing_eagerly)\n\u001b[0;32m   1868\u001b[0m forward_function, args_with_tangents \u001b[38;5;241m=\u001b[39m forward_backward\u001b[38;5;241m.\u001b[39mforward()\n",
      "File \u001b[1;32md:\\AnaConda\\envs\\Cap\\lib\\site-packages\\tensorflow\\python\\eager\\function.py:499\u001b[0m, in \u001b[0;36m_EagerDefinedFunction.call\u001b[1;34m(self, ctx, args, cancellation_manager)\u001b[0m\n\u001b[0;32m    497\u001b[0m \u001b[38;5;28;01mwith\u001b[39;00m _InterpolateFunctionError(\u001b[38;5;28mself\u001b[39m):\n\u001b[0;32m    498\u001b[0m   \u001b[38;5;28;01mif\u001b[39;00m cancellation_manager \u001b[38;5;129;01mis\u001b[39;00m \u001b[38;5;28;01mNone\u001b[39;00m:\n\u001b[1;32m--> 499\u001b[0m     outputs \u001b[38;5;241m=\u001b[39m \u001b[43mexecute\u001b[49m\u001b[38;5;241;43m.\u001b[39;49m\u001b[43mexecute\u001b[49m\u001b[43m(\u001b[49m\n\u001b[0;32m    500\u001b[0m \u001b[43m        \u001b[49m\u001b[38;5;28;43mstr\u001b[39;49m\u001b[43m(\u001b[49m\u001b[38;5;28;43mself\u001b[39;49m\u001b[38;5;241;43m.\u001b[39;49m\u001b[43msignature\u001b[49m\u001b[38;5;241;43m.\u001b[39;49m\u001b[43mname\u001b[49m\u001b[43m)\u001b[49m\u001b[43m,\u001b[49m\n\u001b[0;32m    501\u001b[0m \u001b[43m        \u001b[49m\u001b[43mnum_outputs\u001b[49m\u001b[38;5;241;43m=\u001b[39;49m\u001b[38;5;28;43mself\u001b[39;49m\u001b[38;5;241;43m.\u001b[39;49m\u001b[43m_num_outputs\u001b[49m\u001b[43m,\u001b[49m\n\u001b[0;32m    502\u001b[0m \u001b[43m        \u001b[49m\u001b[43minputs\u001b[49m\u001b[38;5;241;43m=\u001b[39;49m\u001b[43margs\u001b[49m\u001b[43m,\u001b[49m\n\u001b[0;32m    503\u001b[0m \u001b[43m        \u001b[49m\u001b[43mattrs\u001b[49m\u001b[38;5;241;43m=\u001b[39;49m\u001b[43mattrs\u001b[49m\u001b[43m,\u001b[49m\n\u001b[0;32m    504\u001b[0m \u001b[43m        \u001b[49m\u001b[43mctx\u001b[49m\u001b[38;5;241;43m=\u001b[39;49m\u001b[43mctx\u001b[49m\u001b[43m)\u001b[49m\n\u001b[0;32m    505\u001b[0m   \u001b[38;5;28;01melse\u001b[39;00m:\n\u001b[0;32m    506\u001b[0m     outputs \u001b[38;5;241m=\u001b[39m execute\u001b[38;5;241m.\u001b[39mexecute_with_cancellation(\n\u001b[0;32m    507\u001b[0m         \u001b[38;5;28mstr\u001b[39m(\u001b[38;5;28mself\u001b[39m\u001b[38;5;241m.\u001b[39msignature\u001b[38;5;241m.\u001b[39mname),\n\u001b[0;32m    508\u001b[0m         num_outputs\u001b[38;5;241m=\u001b[39m\u001b[38;5;28mself\u001b[39m\u001b[38;5;241m.\u001b[39m_num_outputs,\n\u001b[1;32m   (...)\u001b[0m\n\u001b[0;32m    511\u001b[0m         ctx\u001b[38;5;241m=\u001b[39mctx,\n\u001b[0;32m    512\u001b[0m         cancellation_manager\u001b[38;5;241m=\u001b[39mcancellation_manager)\n",
      "File \u001b[1;32md:\\AnaConda\\envs\\Cap\\lib\\site-packages\\tensorflow\\python\\eager\\execute.py:54\u001b[0m, in \u001b[0;36mquick_execute\u001b[1;34m(op_name, num_outputs, inputs, attrs, ctx, name)\u001b[0m\n\u001b[0;32m     52\u001b[0m \u001b[38;5;28;01mtry\u001b[39;00m:\n\u001b[0;32m     53\u001b[0m   ctx\u001b[38;5;241m.\u001b[39mensure_initialized()\n\u001b[1;32m---> 54\u001b[0m   tensors \u001b[38;5;241m=\u001b[39m \u001b[43mpywrap_tfe\u001b[49m\u001b[38;5;241;43m.\u001b[39;49m\u001b[43mTFE_Py_Execute\u001b[49m\u001b[43m(\u001b[49m\u001b[43mctx\u001b[49m\u001b[38;5;241;43m.\u001b[39;49m\u001b[43m_handle\u001b[49m\u001b[43m,\u001b[49m\u001b[43m \u001b[49m\u001b[43mdevice_name\u001b[49m\u001b[43m,\u001b[49m\u001b[43m \u001b[49m\u001b[43mop_name\u001b[49m\u001b[43m,\u001b[49m\n\u001b[0;32m     55\u001b[0m \u001b[43m                                      \u001b[49m\u001b[43minputs\u001b[49m\u001b[43m,\u001b[49m\u001b[43m \u001b[49m\u001b[43mattrs\u001b[49m\u001b[43m,\u001b[49m\u001b[43m \u001b[49m\u001b[43mnum_outputs\u001b[49m\u001b[43m)\u001b[49m\n\u001b[0;32m     56\u001b[0m \u001b[38;5;28;01mexcept\u001b[39;00m core\u001b[38;5;241m.\u001b[39m_NotOkStatusException \u001b[38;5;28;01mas\u001b[39;00m e:\n\u001b[0;32m     57\u001b[0m   \u001b[38;5;28;01mif\u001b[39;00m name \u001b[38;5;129;01mis\u001b[39;00m \u001b[38;5;129;01mnot\u001b[39;00m \u001b[38;5;28;01mNone\u001b[39;00m:\n",
      "\u001b[1;31mKeyboardInterrupt\u001b[0m: "
     ]
    }
   ],
   "source": [
    "history1=model1.fit(train_generator, epochs=100, validation_data=val_generator)"
   ]
  },
  {
   "cell_type": "code",
   "execution_count": null,
   "metadata": {},
   "outputs": [
    {
     "data": {
      "image/png": "[encoded data removed]",
      "text/plain": [
       "<Figure size 640x480 with 1 Axes>"
      ]
     },
     "metadata": {},
     "output_type": "display_data"
    },
    {
     "data": {
      "image/png": "[encoded data removed]",
      "text/plain": [
       "<Figure size 640x480 with 1 Axes>"
      ]
     },
     "metadata": {},
     "output_type": "display_data"
    }
   ],
   "source": [
    "plot(history1, name=\"model2\")"
   ]
  },
  {
   "cell_type": "code",
   "execution_count": 30,
   "metadata": {},
   "outputs": [],
   "source": [
    "model2 = Sequential()\n",
    "model2.add(effmodel)\n",
    "model2.add(Lambda(lambda x: x['last_hidden_state']))\n",
    "model2.add(GRU(units=64, return_sequences=False))  # Add GRU layer here\n",
    "model2.add(Dense(256, activation=\"gelu\"))\n",
    "model2.add(Dropout(0.2))\n",
    "model2.add(Dense(64, activation='relu', kernel_regularizer=l2(0.01)))\n",
    "model2.add(Dense(2, activation='sigmoid'))"
   ]
  },
  {
   "cell_type": "code",
   "execution_count": 32,
   "metadata": {},
   "outputs": [],
   "source": [
    "model2.compile(loss=\"BinaryCrossentropy\", optimizer='adam', metrics=['accuracy'])"
   ]
  },
  {
   "cell_type": "code",
   "execution_count": 33,
   "metadata": {},
   "outputs": [
    {
     "name": "stdout",
     "output_type": "stream",
     "text": [
      "Epoch 1/10\n",
      "536/536 [==============================] - 107s 191ms/step - loss: 0.7573 - accuracy: 0.6013 - val_loss: 0.6244 - val_accuracy: 0.6645\n",
      "Epoch 2/10\n",
      "536/536 [==============================] - 103s 191ms/step - loss: 0.5935 - accuracy: 0.6817 - val_loss: 0.5593 - val_accuracy: 0.6972\n",
      "Epoch 3/10\n",
      "536/536 [==============================] - 102s 191ms/step - loss: 0.5301 - accuracy: 0.7362 - val_loss: 0.5281 - val_accuracy: 0.7346\n",
      "Epoch 4/10\n",
      "536/536 [==============================] - 101s 188ms/step - loss: 0.4771 - accuracy: 0.7706 - val_loss: 0.4849 - val_accuracy: 0.7561\n",
      "Epoch 5/10\n",
      "536/536 [==============================] - 105s 196ms/step - loss: 0.4394 - accuracy: 0.7938 - val_loss: 0.4935 - val_accuracy: 0.7617\n",
      "Epoch 6/10\n",
      "536/536 [==============================] - 117s 217ms/step - loss: 0.4048 - accuracy: 0.8136 - val_loss: 0.4628 - val_accuracy: 0.7841\n",
      "Epoch 7/10\n",
      "536/536 [==============================] - 101s 188ms/step - loss: 0.3882 - accuracy: 0.8230 - val_loss: 0.4702 - val_accuracy: 0.7888\n",
      "Epoch 8/10\n",
      "536/536 [==============================] - 102s 191ms/step - loss: 0.3688 - accuracy: 0.8349 - val_loss: 0.4372 - val_accuracy: 0.8047\n",
      "Epoch 9/10\n",
      "536/536 [==============================] - 103s 191ms/step - loss: 0.3505 - accuracy: 0.8449 - val_loss: 0.4314 - val_accuracy: 0.8028\n",
      "Epoch 10/10\n",
      "536/536 [==============================] - 101s 189ms/step - loss: 0.3341 - accuracy: 0.8543 - val_loss: 0.4526 - val_accuracy: 0.7907\n"
     ]
    }
   ],
   "source": [
    "history2=model2.fit(train_generator, epochs=10, validation_data=val_generator)"
   ]
  },
  {
   "cell_type": "code",
   "execution_count": 34,
   "metadata": {},
   "outputs": [
    {
     "data": {
      "image/png": "[encoded data removed]",
      "text/plain": [
       "<Figure size 640x480 with 1 Axes>"
      ]
     },
     "metadata": {},
     "output_type": "display_data"
    },
    {
     "data": {
      "image/png": "[encoded data removed]",
      "text/plain": [
       "<Figure size 640x480 with 1 Axes>"
      ]
     },
     "metadata": {},
     "output_type": "display_data"
    }
   ],
   "source": [
    "plot(history2, name=\"model3\")"
   ]
  },
  {
   "cell_type": "code",
   "execution_count": null,
   "metadata": {},
   "outputs": [],
   "source": [
    "model2.save(\"third.h5\")"
   ]
  },
  {
   "cell_type": "code",
   "execution_count": null,
   "metadata": {},
   "outputs": [],
   "source": [
    "model3 = Sequential()\n",
    "model3.add(effmodel)\n",
    "model3.add(Lambda(lambda x: x['last_hidden_state']))\n",
    "model3.add(GRU(units=64, return_sequences=False))  # Add GRU layer here\n",
    "model3.add(Dense(32, activation=\"relu\"))\n",
    "model3.add(Dropout(0.2))\n",
    "model3.add(Dense(64, activation='relu', kernel_regularizer=l2(0.01)))\n",
    "model3.add(Dropout(0.2)\n",
    "model3.add(Dense(2, activation='sigmoid'))"
   ]
  },
  {
   "cell_type": "code",
   "execution_count": null,
   "metadata": {},
   "outputs": [],
   "source": [
    "model3.compile(loss=\"BinaryCrossentropy\", optimizer='adam', metrics=['accuracy'])\n"
   ]
  },
  {
   "cell_type": "code",
   "execution_count": null,
   "metadata": {},
   "outputs": [],
   "source": [
    "history3=model3.fit(train_generator, epochs=100, validation_data=val_generator)"
   ]
  },
  {
   "cell_type": "code",
   "execution_count": null,
   "metadata": {},
   "outputs": [],
   "source": [
    "plot(history3, name=\"model3\")"
   ]
  }
 ],
 "metadata": {
  "colab": {
   "authorship_tag": "ABX9TyOpg3M3v+5gqZpq1OebjEoA",
   "provenance": []
  },
  "kernelspec": {
   "display_name": "Python 3 (ipykernel)",
   "language": "python",
   "name": "python3"
  },
  "language_info": {
   "codemirror_mode": {
    "name": "ipython",
    "version": 3
   },
   "file_extension": ".py",
   "mimetype": "text/x-python",
   "name": "python",
   "nbconvert_exporter": "python",
   "pygments_lexer": "ipython3",
   "version": "3.9.0"
  },
  "widgets": {
   "application/vnd.jupyter.widget-state+json": {
    "0211ef783ed242d48551db92cf5f9252": {
     "model_module": "@jupyter-widgets/base",
     "model_module_version": "1.2.0",
     "model_name": "LayoutModel",
     "state": {
      "_model_module": "@jupyter-widgets/base",
      "_model_module_version": "1.2.0",
      "_model_name": "LayoutModel",
      "_view_count": null,
      "_view_module": "@jupyter-widgets/base",
      "_view_module_version": "1.2.0",
      "_view_name": "LayoutView",
      "align_content": null,
      "align_items": null,
      "align_self": null,
      "border": null,
      "bottom": null,
      "display": null,
      "flex": null,
      "flex_flow": null,
      "grid_area": null,
      "grid_auto_columns": null,
      "grid_auto_flow": null,
      "grid_auto_rows": null,
      "grid_column": null,
      "grid_gap": null,
      "grid_row": null,
      "grid_template_areas": null,
      "grid_template_columns": null,
      "grid_template_rows": null,
      "height": null,
      "justify_content": null,
      "justify_items": null,
      "left": null,
      "margin": null,
      "max_height": null,
      "max_width": null,
      "min_height": null,
      "min_width": null,
      "object_fit": null,
      "object_position": null,
      "order": null,
      "overflow": null,
      "overflow_x": null,
      "overflow_y": null,
      "padding": null,
      "right": null,
      "top": null,
      "visibility": null,
      "width": null
     }
    },
    "0b2220468b11450ba958423ed961f32f": {
     "model_module": "@jupyter-widgets/base",
     "model_module_version": "1.2.0",
     "model_name": "LayoutModel",
     "state": {
      "_model_module": "@jupyter-widgets/base",
      "_model_module_version": "1.2.0",
      "_model_name": "LayoutModel",
      "_view_count": null,
      "_view_module": "@jupyter-widgets/base",
      "_view_module_version": "1.2.0",
      "_view_name": "LayoutView",
      "align_content": null,
      "align_items": null,
      "align_self": null,
      "border": null,
      "bottom": null,
      "display": null,
      "flex": null,
      "flex_flow": null,
      "grid_area": null,
      "grid_auto_columns": null,
      "grid_auto_flow": null,
      "grid_auto_rows": null,
      "grid_column": null,
      "grid_gap": null,
      "grid_row": null,
      "grid_template_areas": null,
      "grid_template_columns": null,
      "grid_template_rows": null,
      "height": null,
      "justify_content": null,
      "justify_items": null,
      "left": null,
      "margin": null,
      "max_height": null,
      "max_width": null,
      "min_height": null,
      "min_width": null,
      "object_fit": null,
      "object_position": null,
      "order": null,
      "overflow": null,
      "overflow_x": null,
      "overflow_y": null,
      "padding": null,
      "right": null,
      "top": null,
      "visibility": null,
      "width": null
     }
    },
    "26b8bec075e94d5898857fba888f5f9c": {
     "model_module": "@jupyter-widgets/controls",
     "model_module_version": "1.5.0",
     "model_name": "HBoxModel",
     "state": {
      "_dom_classes": [],
      "_model_module": "@jupyter-widgets/controls",
      "_model_module_version": "1.5.0",
      "_model_name": "HBoxModel",
      "_view_count": null,
      "_view_module": "@jupyter-widgets/controls",
      "_view_module_version": "1.5.0",
      "_view_name": "HBoxView",
      "box_style": "",
      "children": [
       "IPY_MODEL_7e9b45b875f04c2ba4eae4cf2e884eac",
       "IPY_MODEL_6befc2a8304344488fdf06f8943de8d0",
       "IPY_MODEL_58fbdb6a213443d7bc814dcfc9a9f4b1"
      ],
      "layout": "IPY_MODEL_b09a7a9f9d3844e4bd4c972a2f50eca1"
     }
    },
    "26c6b192a14a418ca5133f1a217b13e8": {
     "model_module": "@jupyter-widgets/controls",
     "model_module_version": "1.5.0",
     "model_name": "DescriptionStyleModel",
     "state": {
      "_model_module": "@jupyter-widgets/controls",
      "_model_module_version": "1.5.0",
      "_model_name": "DescriptionStyleModel",
      "_view_count": null,
      "_view_module": "@jupyter-widgets/base",
      "_view_module_version": "1.2.0",
      "_view_name": "StyleView",
      "description_width": ""
     }
    },
    "2904a329ad14409195e2c3dc9e8c3e38": {
     "model_module": "@jupyter-widgets/controls",
     "model_module_version": "1.5.0",
     "model_name": "HTMLModel",
     "state": {
      "_dom_classes": [],
      "_model_module": "@jupyter-widgets/controls",
      "_model_module_version": "1.5.0",
      "_model_name": "HTMLModel",
      "_view_count": null,
      "_view_module": "@jupyter-widgets/controls",
      "_view_module_version": "1.5.0",
      "_view_name": "HTMLView",
      "description": "",
      "description_tooltip": null,
      "layout": "IPY_MODEL_53a969d7f55447bd986574d45adfd437",
      "placeholder": "​",
      "style": "IPY_MODEL_bf78bd6f1c884872af15a8f1e0536ba5",
      "value": "config.json: 100%"
     }
    },
    "29d3f88693bd4174808b3418f67e153f": {
     "model_module": "@jupyter-widgets/base",
     "model_module_version": "1.2.0",
     "model_name": "LayoutModel",
     "state": {
      "_model_module": "@jupyter-widgets/base",
      "_model_module_version": "1.2.0",
      "_model_name": "LayoutModel",
      "_view_count": null,
      "_view_module": "@jupyter-widgets/base",
      "_view_module_version": "1.2.0",
      "_view_name": "LayoutView",
      "align_content": null,
      "align_items": null,
      "align_self": null,
      "border": null,
      "bottom": null,
      "display": null,
      "flex": null,
      "flex_flow": null,
      "grid_area": null,
      "grid_auto_columns": null,
      "grid_auto_flow": null,
      "grid_auto_rows": null,
      "grid_column": null,
      "grid_gap": null,
      "grid_row": null,
      "grid_template_areas": null,
      "grid_template_columns": null,
      "grid_template_rows": null,
      "height": null,
      "justify_content": null,
      "justify_items": null,
      "left": null,
      "margin": null,
      "max_height": null,
      "max_width": null,
      "min_height": null,
      "min_width": null,
      "object_fit": null,
      "object_position": null,
      "order": null,
      "overflow": null,
      "overflow_x": null,
      "overflow_y": null,
      "padding": null,
      "right": null,
      "top": null,
      "visibility": null,
      "width": null
     }
    },
    "38594a0e5497447d8b2b9aefe2b325cf": {
     "model_module": "@jupyter-widgets/controls",
     "model_module_version": "1.5.0",
     "model_name": "DescriptionStyleModel",
     "state": {
      "_model_module": "@jupyter-widgets/controls",
      "_model_module_version": "1.5.0",
      "_model_name": "DescriptionStyleModel",
      "_view_count": null,
      "_view_module": "@jupyter-widgets/base",
      "_view_module_version": "1.2.0",
      "_view_name": "StyleView",
      "description_width": ""
     }
    },
    "44493d2227d04e7283385839cf4a8061": {
     "model_module": "@jupyter-widgets/controls",
     "model_module_version": "1.5.0",
     "model_name": "FloatProgressModel",
     "state": {
      "_dom_classes": [],
      "_model_module": "@jupyter-widgets/controls",
      "_model_module_version": "1.5.0",
      "_model_name": "FloatProgressModel",
      "_view_count": null,
      "_view_module": "@jupyter-widgets/controls",
      "_view_module_version": "1.5.0",
      "_view_name": "ProgressView",
      "bar_style": "success",
      "description": "",
      "description_tooltip": null,
      "layout": "IPY_MODEL_7f5e907eb9e94917a790b68ec9f401b7",
      "max": 63656,
      "min": 0,
      "orientation": "horizontal",
      "style": "IPY_MODEL_93f995be3c164744bb326f31acfec6af",
      "value": 63656
     }
    },
    "4b31495e35f045c7819cede20909a91f": {
     "model_module": "@jupyter-widgets/base",
     "model_module_version": "1.2.0",
     "model_name": "LayoutModel",
     "state": {
      "_model_module": "@jupyter-widgets/base",
      "_model_module_version": "1.2.0",
      "_model_name": "LayoutModel",
      "_view_count": null,
      "_view_module": "@jupyter-widgets/base",
      "_view_module_version": "1.2.0",
      "_view_name": "LayoutView",
      "align_content": null,
      "align_items": null,
      "align_self": null,
      "border": null,
      "bottom": null,
      "display": null,
      "flex": null,
      "flex_flow": null,
      "grid_area": null,
      "grid_auto_columns": null,
      "grid_auto_flow": null,
      "grid_auto_rows": null,
      "grid_column": null,
      "grid_gap": null,
      "grid_row": null,
      "grid_template_areas": null,
      "grid_template_columns": null,
      "grid_template_rows": null,
      "height": null,
      "justify_content": null,
      "justify_items": null,
      "left": null,
      "margin": null,
      "max_height": null,
      "max_width": null,
      "min_height": null,
      "min_width": null,
      "object_fit": null,
      "object_position": null,
      "order": null,
      "overflow": null,
      "overflow_x": null,
      "overflow_y": null,
      "padding": null,
      "right": null,
      "top": null,
      "visibility": null,
      "width": null
     }
    },
    "53a969d7f55447bd986574d45adfd437": {
     "model_module": "@jupyter-widgets/base",
     "model_module_version": "1.2.0",
     "model_name": "LayoutModel",
     "state": {
      "_model_module": "@jupyter-widgets/base",
      "_model_module_version": "1.2.0",
      "_model_name": "LayoutModel",
      "_view_count": null,
      "_view_module": "@jupyter-widgets/base",
      "_view_module_version": "1.2.0",
      "_view_name": "LayoutView",
      "align_content": null,
      "align_items": null,
      "align_self": null,
      "border": null,
      "bottom": null,
      "display": null,
      "flex": null,
      "flex_flow": null,
      "grid_area": null,
      "grid_auto_columns": null,
      "grid_auto_flow": null,
      "grid_auto_rows": null,
      "grid_column": null,
      "grid_gap": null,
      "grid_row": null,
      "grid_template_areas": null,
      "grid_template_columns": null,
      "grid_template_rows": null,
      "height": null,
      "justify_content": null,
      "justify_items": null,
      "left": null,
      "margin": null,
      "max_height": null,
      "max_width": null,
      "min_height": null,
      "min_width": null,
      "object_fit": null,
      "object_position": null,
      "order": null,
      "overflow": null,
      "overflow_x": null,
      "overflow_y": null,
      "padding": null,
      "right": null,
      "top": null,
      "visibility": null,
      "width": null
     }
    },
    "558f74b8151943bea65f72ce6d65c875": {
     "model_module": "@jupyter-widgets/controls",
     "model_module_version": "1.5.0",
     "model_name": "ProgressStyleModel",
     "state": {
      "_model_module": "@jupyter-widgets/controls",
      "_model_module_version": "1.5.0",
      "_model_name": "ProgressStyleModel",
      "_view_count": null,
      "_view_module": "@jupyter-widgets/base",
      "_view_module_version": "1.2.0",
      "_view_name": "StyleView",
      "bar_color": null,
      "description_width": ""
     }
    },
    "58fbdb6a213443d7bc814dcfc9a9f4b1": {
     "model_module": "@jupyter-widgets/controls",
     "model_module_version": "1.5.0",
     "model_name": "HTMLModel",
     "state": {
      "_dom_classes": [],
      "_model_module": "@jupyter-widgets/controls",
      "_model_module_version": "1.5.0",
      "_model_name": "HTMLModel",
      "_view_count": null,
      "_view_module": "@jupyter-widgets/controls",
      "_view_module_version": "1.5.0",
      "_view_name": "HTMLView",
      "description": "",
      "description_tooltip": null,
      "layout": "IPY_MODEL_896cdde3678a4ce9ace03d4748bc7f08",
      "placeholder": "​",
      "style": "IPY_MODEL_26c6b192a14a418ca5133f1a217b13e8",
      "value": " 422/422 [00:00&lt;00:00, 16.9kB/s]"
     }
    },
    "5c04162b2781425dbc3ed1db7507f92e": {
     "model_module": "@jupyter-widgets/base",
     "model_module_version": "1.2.0",
     "model_name": "LayoutModel",
     "state": {
      "_model_module": "@jupyter-widgets/base",
      "_model_module_version": "1.2.0",
      "_model_name": "LayoutModel",
      "_view_count": null,
      "_view_module": "@jupyter-widgets/base",
      "_view_module_version": "1.2.0",
      "_view_name": "LayoutView",
      "align_content": null,
      "align_items": null,
      "align_self": null,
      "border": null,
      "bottom": null,
      "display": null,
      "flex": null,
      "flex_flow": null,
      "grid_area": null,
      "grid_auto_columns": null,
      "grid_auto_flow": null,
      "grid_auto_rows": null,
      "grid_column": null,
      "grid_gap": null,
      "grid_row": null,
      "grid_template_areas": null,
      "grid_template_columns": null,
      "grid_template_rows": null,
      "height": null,
      "justify_content": null,
      "justify_items": null,
      "left": null,
      "margin": null,
      "max_height": null,
      "max_width": null,
      "min_height": null,
      "min_width": null,
      "object_fit": null,
      "object_position": null,
      "order": null,
      "overflow": null,
      "overflow_x": null,
      "overflow_y": null,
      "padding": null,
      "right": null,
      "top": null,
      "visibility": null,
      "width": null
     }
    },
    "5d2c6efb1a2042c586c142da131cb991": {
     "model_module": "@jupyter-widgets/controls",
     "model_module_version": "1.5.0",
     "model_name": "HTMLModel",
     "state": {
      "_dom_classes": [],
      "_model_module": "@jupyter-widgets/controls",
      "_model_module_version": "1.5.0",
      "_model_name": "HTMLModel",
      "_view_count": null,
      "_view_module": "@jupyter-widgets/controls",
      "_view_module_version": "1.5.0",
      "_view_name": "HTMLView",
      "description": "",
      "description_tooltip": null,
      "layout": "IPY_MODEL_4b31495e35f045c7819cede20909a91f",
      "placeholder": "​",
      "style": "IPY_MODEL_9769f3d138064df3b90bb7e18461e5b1",
      "value": "tf_model.h5: 100%"
     }
    },
    "5ded9fbcfe9e4234b93ed28311ad7461": {
     "model_module": "@jupyter-widgets/controls",
     "model_module_version": "1.5.0",
     "model_name": "HBoxModel",
     "state": {
      "_dom_classes": [],
      "_model_module": "@jupyter-widgets/controls",
      "_model_module_version": "1.5.0",
      "_model_name": "HBoxModel",
      "_view_count": null,
      "_view_module": "@jupyter-widgets/controls",
      "_view_module_version": "1.5.0",
      "_view_name": "HBoxView",
      "box_style": "",
      "children": [
       "IPY_MODEL_5d2c6efb1a2042c586c142da131cb991",
       "IPY_MODEL_8c560daba4c54e35a304d90c9fbba71a",
       "IPY_MODEL_fa8cd0ba96e94709ae53d498fc431b62"
      ],
      "layout": "IPY_MODEL_a3237b2fbf4c4c8796ee513db5f04361"
     }
    },
    "6befc2a8304344488fdf06f8943de8d0": {
     "model_module": "@jupyter-widgets/controls",
     "model_module_version": "1.5.0",
     "model_name": "FloatProgressModel",
     "state": {
      "_dom_classes": [],
      "_model_module": "@jupyter-widgets/controls",
      "_model_module_version": "1.5.0",
      "_model_name": "FloatProgressModel",
      "_view_count": null,
      "_view_module": "@jupyter-widgets/controls",
      "_view_module_version": "1.5.0",
      "_view_name": "ProgressView",
      "bar_style": "success",
      "description": "",
      "description_tooltip": null,
      "layout": "IPY_MODEL_29d3f88693bd4174808b3418f67e153f",
      "max": 422,
      "min": 0,
      "orientation": "horizontal",
      "style": "IPY_MODEL_b1df4b1779384e72a40cad29247ec17a",
      "value": 422
     }
    },
    "7e9b45b875f04c2ba4eae4cf2e884eac": {
     "model_module": "@jupyter-widgets/controls",
     "model_module_version": "1.5.0",
     "model_name": "HTMLModel",
     "state": {
      "_dom_classes": [],
      "_model_module": "@jupyter-widgets/controls",
      "_model_module_version": "1.5.0",
      "_model_name": "HTMLModel",
      "_view_count": null,
      "_view_module": "@jupyter-widgets/controls",
      "_view_module_version": "1.5.0",
      "_view_name": "HTMLView",
      "description": "",
      "description_tooltip": null,
      "layout": "IPY_MODEL_0b2220468b11450ba958423ed961f32f",
      "placeholder": "​",
      "style": "IPY_MODEL_860c834771cd4af2812b708eeae93456",
      "value": "preprocessor_config.json: 100%"
     }
    },
    "7f5e907eb9e94917a790b68ec9f401b7": {
     "model_module": "@jupyter-widgets/base",
     "model_module_version": "1.2.0",
     "model_name": "LayoutModel",
     "state": {
      "_model_module": "@jupyter-widgets/base",
      "_model_module_version": "1.2.0",
      "_model_name": "LayoutModel",
      "_view_count": null,
      "_view_module": "@jupyter-widgets/base",
      "_view_module_version": "1.2.0",
      "_view_name": "LayoutView",
      "align_content": null,
      "align_items": null,
      "align_self": null,
      "border": null,
      "bottom": null,
      "display": null,
      "flex": null,
      "flex_flow": null,
      "grid_area": null,
      "grid_auto_columns": null,
      "grid_auto_flow": null,
      "grid_auto_rows": null,
      "grid_column": null,
      "grid_gap": null,
      "grid_row": null,
      "grid_template_areas": null,
      "grid_template_columns": null,
      "grid_template_rows": null,
      "height": null,
      "justify_content": null,
      "justify_items": null,
      "left": null,
      "margin": null,
      "max_height": null,
      "max_width": null,
      "min_height": null,
      "min_width": null,
      "object_fit": null,
      "object_position": null,
      "order": null,
      "overflow": null,
      "overflow_x": null,
      "overflow_y": null,
      "padding": null,
      "right": null,
      "top": null,
      "visibility": null,
      "width": null
     }
    },
    "860c834771cd4af2812b708eeae93456": {
     "model_module": "@jupyter-widgets/controls",
     "model_module_version": "1.5.0",
     "model_name": "DescriptionStyleModel",
     "state": {
      "_model_module": "@jupyter-widgets/controls",
      "_model_module_version": "1.5.0",
      "_model_name": "DescriptionStyleModel",
      "_view_count": null,
      "_view_module": "@jupyter-widgets/base",
      "_view_module_version": "1.2.0",
      "_view_name": "StyleView",
      "description_width": ""
     }
    },
    "896cdde3678a4ce9ace03d4748bc7f08": {
     "model_module": "@jupyter-widgets/base",
     "model_module_version": "1.2.0",
     "model_name": "LayoutModel",
     "state": {
      "_model_module": "@jupyter-widgets/base",
      "_model_module_version": "1.2.0",
      "_model_name": "LayoutModel",
      "_view_count": null,
      "_view_module": "@jupyter-widgets/base",
      "_view_module_version": "1.2.0",
      "_view_name": "LayoutView",
      "align_content": null,
      "align_items": null,
      "align_self": null,
      "border": null,
      "bottom": null,
      "display": null,
      "flex": null,
      "flex_flow": null,
      "grid_area": null,
      "grid_auto_columns": null,
      "grid_auto_flow": null,
      "grid_auto_rows": null,
      "grid_column": null,
      "grid_gap": null,
      "grid_row": null,
      "grid_template_areas": null,
      "grid_template_columns": null,
      "grid_template_rows": null,
      "height": null,
      "justify_content": null,
      "justify_items": null,
      "left": null,
      "margin": null,
      "max_height": null,
      "max_width": null,
      "min_height": null,
      "min_width": null,
      "object_fit": null,
      "object_position": null,
      "order": null,
      "overflow": null,
      "overflow_x": null,
      "overflow_y": null,
      "padding": null,
      "right": null,
      "top": null,
      "visibility": null,
      "width": null
     }
    },
    "8c560daba4c54e35a304d90c9fbba71a": {
     "model_module": "@jupyter-widgets/controls",
     "model_module_version": "1.5.0",
     "model_name": "FloatProgressModel",
     "state": {
      "_dom_classes": [],
      "_model_module": "@jupyter-widgets/controls",
      "_model_module_version": "1.5.0",
      "_model_name": "FloatProgressModel",
      "_view_count": null,
      "_view_module": "@jupyter-widgets/controls",
      "_view_module_version": "1.5.0",
      "_view_name": "ProgressView",
      "bar_style": "success",
      "description": "",
      "description_tooltip": null,
      "layout": "IPY_MODEL_5c04162b2781425dbc3ed1db7507f92e",
      "max": 49581884,
      "min": 0,
      "orientation": "horizontal",
      "style": "IPY_MODEL_558f74b8151943bea65f72ce6d65c875",
      "value": 49581884
     }
    },
    "8e160fe59e1641beae386f6247599394": {
     "model_module": "@jupyter-widgets/base",
     "model_module_version": "1.2.0",
     "model_name": "LayoutModel",
     "state": {
      "_model_module": "@jupyter-widgets/base",
      "_model_module_version": "1.2.0",
      "_model_name": "LayoutModel",
      "_view_count": null,
      "_view_module": "@jupyter-widgets/base",
      "_view_module_version": "1.2.0",
      "_view_name": "LayoutView",
      "align_content": null,
      "align_items": null,
      "align_self": null,
      "border": null,
      "bottom": null,
      "display": null,
      "flex": null,
      "flex_flow": null,
      "grid_area": null,
      "grid_auto_columns": null,
      "grid_auto_flow": null,
      "grid_auto_rows": null,
      "grid_column": null,
      "grid_gap": null,
      "grid_row": null,
      "grid_template_areas": null,
      "grid_template_columns": null,
      "grid_template_rows": null,
      "height": null,
      "justify_content": null,
      "justify_items": null,
      "left": null,
      "margin": null,
      "max_height": null,
      "max_width": null,
      "min_height": null,
      "min_width": null,
      "object_fit": null,
      "object_position": null,
      "order": null,
      "overflow": null,
      "overflow_x": null,
      "overflow_y": null,
      "padding": null,
      "right": null,
      "top": null,
      "visibility": null,
      "width": null
     }
    },
    "92aafb75acd74bd6b2fd83a7e44a4131": {
     "model_module": "@jupyter-widgets/controls",
     "model_module_version": "1.5.0",
     "model_name": "HTMLModel",
     "state": {
      "_dom_classes": [],
      "_model_module": "@jupyter-widgets/controls",
      "_model_module_version": "1.5.0",
      "_model_name": "HTMLModel",
      "_view_count": null,
      "_view_module": "@jupyter-widgets/controls",
      "_view_module_version": "1.5.0",
      "_view_name": "HTMLView",
      "description": "",
      "description_tooltip": null,
      "layout": "IPY_MODEL_f81dbe83acd2485cbc91f28a0888b6fe",
      "placeholder": "​",
      "style": "IPY_MODEL_38594a0e5497447d8b2b9aefe2b325cf",
      "value": " 63.7k/63.7k [00:00&lt;00:00, 2.45MB/s]"
     }
    },
    "93f995be3c164744bb326f31acfec6af": {
     "model_module": "@jupyter-widgets/controls",
     "model_module_version": "1.5.0",
     "model_name": "ProgressStyleModel",
     "state": {
      "_model_module": "@jupyter-widgets/controls",
      "_model_module_version": "1.5.0",
      "_model_name": "ProgressStyleModel",
      "_view_count": null,
      "_view_module": "@jupyter-widgets/base",
      "_view_module_version": "1.2.0",
      "_view_name": "StyleView",
      "bar_color": null,
      "description_width": ""
     }
    },
    "9769f3d138064df3b90bb7e18461e5b1": {
     "model_module": "@jupyter-widgets/controls",
     "model_module_version": "1.5.0",
     "model_name": "DescriptionStyleModel",
     "state": {
      "_model_module": "@jupyter-widgets/controls",
      "_model_module_version": "1.5.0",
      "_model_name": "DescriptionStyleModel",
      "_view_count": null,
      "_view_module": "@jupyter-widgets/base",
      "_view_module_version": "1.2.0",
      "_view_name": "StyleView",
      "description_width": ""
     }
    },
    "97cef6e1f7814382930cde6becfd2f78": {
     "model_module": "@jupyter-widgets/controls",
     "model_module_version": "1.5.0",
     "model_name": "DescriptionStyleModel",
     "state": {
      "_model_module": "@jupyter-widgets/controls",
      "_model_module_version": "1.5.0",
      "_model_name": "DescriptionStyleModel",
      "_view_count": null,
      "_view_module": "@jupyter-widgets/base",
      "_view_module_version": "1.2.0",
      "_view_name": "StyleView",
      "description_width": ""
     }
    },
    "a3237b2fbf4c4c8796ee513db5f04361": {
     "model_module": "@jupyter-widgets/base",
     "model_module_version": "1.2.0",
     "model_name": "LayoutModel",
     "state": {
      "_model_module": "@jupyter-widgets/base",
      "_model_module_version": "1.2.0",
      "_model_name": "LayoutModel",
      "_view_count": null,
      "_view_module": "@jupyter-widgets/base",
      "_view_module_version": "1.2.0",
      "_view_name": "LayoutView",
      "align_content": null,
      "align_items": null,
      "align_self": null,
      "border": null,
      "bottom": null,
      "display": null,
      "flex": null,
      "flex_flow": null,
      "grid_area": null,
      "grid_auto_columns": null,
      "grid_auto_flow": null,
      "grid_auto_rows": null,
      "grid_column": null,
      "grid_gap": null,
      "grid_row": null,
      "grid_template_areas": null,
      "grid_template_columns": null,
      "grid_template_rows": null,
      "height": null,
      "justify_content": null,
      "justify_items": null,
      "left": null,
      "margin": null,
      "max_height": null,
      "max_width": null,
      "min_height": null,
      "min_width": null,
      "object_fit": null,
      "object_position": null,
      "order": null,
      "overflow": null,
      "overflow_x": null,
      "overflow_y": null,
      "padding": null,
      "right": null,
      "top": null,
      "visibility": null,
      "width": null
     }
    },
    "b09a7a9f9d3844e4bd4c972a2f50eca1": {
     "model_module": "@jupyter-widgets/base",
     "model_module_version": "1.2.0",
     "model_name": "LayoutModel",
     "state": {
      "_model_module": "@jupyter-widgets/base",
      "_model_module_version": "1.2.0",
      "_model_name": "LayoutModel",
      "_view_count": null,
      "_view_module": "@jupyter-widgets/base",
      "_view_module_version": "1.2.0",
      "_view_name": "LayoutView",
      "align_content": null,
      "align_items": null,
      "align_self": null,
      "border": null,
      "bottom": null,
      "display": null,
      "flex": null,
      "flex_flow": null,
      "grid_area": null,
      "grid_auto_columns": null,
      "grid_auto_flow": null,
      "grid_auto_rows": null,
      "grid_column": null,
      "grid_gap": null,
      "grid_row": null,
      "grid_template_areas": null,
      "grid_template_columns": null,
      "grid_template_rows": null,
      "height": null,
      "justify_content": null,
      "justify_items": null,
      "left": null,
      "margin": null,
      "max_height": null,
      "max_width": null,
      "min_height": null,
      "min_width": null,
      "object_fit": null,
      "object_position": null,
      "order": null,
      "overflow": null,
      "overflow_x": null,
      "overflow_y": null,
      "padding": null,
      "right": null,
      "top": null,
      "visibility": null,
      "width": null
     }
    },
    "b1df4b1779384e72a40cad29247ec17a": {
     "model_module": "@jupyter-widgets/controls",
     "model_module_version": "1.5.0",
     "model_name": "ProgressStyleModel",
     "state": {
      "_model_module": "@jupyter-widgets/controls",
      "_model_module_version": "1.5.0",
      "_model_name": "ProgressStyleModel",
      "_view_count": null,
      "_view_module": "@jupyter-widgets/base",
      "_view_module_version": "1.2.0",
      "_view_name": "StyleView",
      "bar_color": null,
      "description_width": ""
     }
    },
    "bf78bd6f1c884872af15a8f1e0536ba5": {
     "model_module": "@jupyter-widgets/controls",
     "model_module_version": "1.5.0",
     "model_name": "DescriptionStyleModel",
     "state": {
      "_model_module": "@jupyter-widgets/controls",
      "_model_module_version": "1.5.0",
      "_model_name": "DescriptionStyleModel",
      "_view_count": null,
      "_view_module": "@jupyter-widgets/base",
      "_view_module_version": "1.2.0",
      "_view_name": "StyleView",
      "description_width": ""
     }
    },
    "c507036352534e9a8cce110d4128ec08": {
     "model_module": "@jupyter-widgets/controls",
     "model_module_version": "1.5.0",
     "model_name": "HBoxModel",
     "state": {
      "_dom_classes": [],
      "_model_module": "@jupyter-widgets/controls",
      "_model_module_version": "1.5.0",
      "_model_name": "HBoxModel",
      "_view_count": null,
      "_view_module": "@jupyter-widgets/controls",
      "_view_module_version": "1.5.0",
      "_view_name": "HBoxView",
      "box_style": "",
      "children": [
       "IPY_MODEL_2904a329ad14409195e2c3dc9e8c3e38",
       "IPY_MODEL_44493d2227d04e7283385839cf4a8061",
       "IPY_MODEL_92aafb75acd74bd6b2fd83a7e44a4131"
      ],
      "layout": "IPY_MODEL_0211ef783ed242d48551db92cf5f9252"
     }
    },
    "f81dbe83acd2485cbc91f28a0888b6fe": {
     "model_module": "@jupyter-widgets/base",
     "model_module_version": "1.2.0",
     "model_name": "LayoutModel",
     "state": {
      "_model_module": "@jupyter-widgets/base",
      "_model_module_version": "1.2.0",
      "_model_name": "LayoutModel",
      "_view_count": null,
      "_view_module": "@jupyter-widgets/base",
      "_view_module_version": "1.2.0",
      "_view_name": "LayoutView",
      "align_content": null,
      "align_items": null,
      "align_self": null,
      "border": null,
      "bottom": null,
      "display": null,
      "flex": null,
      "flex_flow": null,
      "grid_area": null,
      "grid_auto_columns": null,
      "grid_auto_flow": null,
      "grid_auto_rows": null,
      "grid_column": null,
      "grid_gap": null,
      "grid_row": null,
      "grid_template_areas": null,
      "grid_template_columns": null,
      "grid_template_rows": null,
      "height": null,
      "justify_content": null,
      "justify_items": null,
      "left": null,
      "margin": null,
      "max_height": null,
      "max_width": null,
      "min_height": null,
      "min_width": null,
      "object_fit": null,
      "object_position": null,
      "order": null,
      "overflow": null,
      "overflow_x": null,
      "overflow_y": null,
      "padding": null,
      "right": null,
      "top": null,
      "visibility": null,
      "width": null
     }
    },
    "fa8cd0ba96e94709ae53d498fc431b62": {
     "model_module": "@jupyter-widgets/controls",
     "model_module_version": "1.5.0",
     "model_name": "HTMLModel",
     "state": {
      "_dom_classes": [],
      "_model_module": "@jupyter-widgets/controls",
      "_model_module_version": "1.5.0",
      "_model_name": "HTMLModel",
      "_view_count": null,
      "_view_module": "@jupyter-widgets/controls",
      "_view_module_version": "1.5.0",
      "_view_name": "HTMLView",
      "description": "",
      "description_tooltip": null,
      "layout": "IPY_MODEL_8e160fe59e1641beae386f6247599394",
      "placeholder": "​",
      "style": "IPY_MODEL_97cef6e1f7814382930cde6becfd2f78",
      "value": " 49.6M/49.6M [00:00&lt;00:00, 73.7MB/s]"
     }
    }
   }
  }
 },
 "nbformat": 4,
 "nbformat_minor": 4
}
