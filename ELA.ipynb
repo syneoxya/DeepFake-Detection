{
 "cells": [
  {
   "cell_type": "code",
   "execution_count": 1,
   "metadata": {},
   "outputs": [],
   "source": [
    "import cv2\n",
    "import PIL\n",
    "import os\n",
    "import numpy as np\n",
    "from PIL import Image"
   ]
  },
  {
   "cell_type": "code",
   "execution_count": 2,
   "metadata": {},
   "outputs": [],
   "source": [
    "input_dir=\"../Data/sampled_Faces/Frames\"\n",
    "output_dir=\"../Data/sampled_Faces/ELA_Frames\""
   ]
  },
  {
   "cell_type": "code",
   "execution_count": 3,
   "metadata": {},
   "outputs": [
    {
     "name": "stdout",
     "output_type": "stream",
     "text": [
      "15416\n",
      "18407\n"
     ]
    }
   ],
   "source": [
    "print(len(os.listdir(input_dir+\"/frame_real\")))\n",
    "print(len(os.listdir(input_dir+\"/frame_fake\")))"
   ]
  },
  {
   "cell_type": "code",
   "execution_count": 4,
   "metadata": {},
   "outputs": [],
   "source": [
    "def ela(input_path,output_path):\n",
    "    for image in os.listdir(input_path):\n",
    "        img=input_path+\"/\"+image\n",
    "        img=cv2.imread(img)\n",
    "        temp_path=\"temp.jpg\"\n",
    "\n",
    "\n",
    "        cv2.imwrite(temp_path, cv2.cvtColor(np.array(img), cv2.COLOR_RGB2BGR), \n",
    "                    [cv2.IMWRITE_JPEG_QUALITY, 85])\n",
    "        temp_image = cv2.imread(temp_path)\n",
    "\n",
    "        ela_image = cv2.absdiff(np.array(img), temp_image)\n",
    "        ela_image = cv2.cvtColor(ela_image, cv2.COLOR_BGR2GRAY)\n",
    "        ela_image = cv2.equalizeHist(ela_image)\n",
    "\n",
    "        os.remove(temp_path)\n",
    "        result=Image.fromarray(ela_image,\"L\")\n",
    "\n",
    "        result.save(f\"{output_path}/{image}\")\n"
   ]
  },
  {
   "cell_type": "code",
   "execution_count": 5,
   "metadata": {},
   "outputs": [],
   "source": [
    "input_path=f\"{input_dir}/frame_real\"\n",
    "output_path=f\"{output_dir}/Real\"\n",
    "\n",
    "ela(input_path,output_path)"
   ]
  },
  {
   "cell_type": "code",
   "execution_count": null,
   "metadata": {},
   "outputs": [],
   "source": [
    "input_path=f\"{input_dir}/frame_fake\"\n",
    "output_path=f\"{output_dir}/Fake\"\n",
    "\n",
    "ela(input_path,output_path)"
   ]
  }
 ],
 "metadata": {
  "kernelspec": {
   "display_name": "Python 3",
   "language": "python",
   "name": "python3"
  },
  "language_info": {
   "codemirror_mode": {
    "name": "ipython",
    "version": 3
   },
   "file_extension": ".py",
   "mimetype": "text/x-python",
   "name": "python",
   "nbconvert_exporter": "python",
   "pygments_lexer": "ipython3",
   "version": "3.10.2"
  }
 },
 "nbformat": 4,
 "nbformat_minor": 2
}
